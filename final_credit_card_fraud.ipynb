{
  "nbformat": 4,
  "nbformat_minor": 0,
  "metadata": {
    "accelerator": "GPU",
    "colab": {
      "name": "final credit card fraud",
      "provenance": [],
      "collapsed_sections": [],
      "authorship_tag": "ABX9TyNwre7zbmpHHsCZ434o6wv5",
      "include_colab_link": true
    },
    "kernelspec": {
      "display_name": "Python 3",
      "name": "python3"
    }
  },
  "cells": [
    {
      "cell_type": "markdown",
      "metadata": {
        "id": "view-in-github",
        "colab_type": "text"
      },
      "source": [
        "<a href=\"https://colab.research.google.com/github/ranjithkumar910/credit-card-fraud-detection/blob/main/final_credit_card_fraud.ipynb\" target=\"_parent\"><img src=\"https://colab.research.google.com/assets/colab-badge.svg\" alt=\"Open In Colab\"/></a>"
      ]
    },
    {
      "cell_type": "markdown",
      "metadata": {
        "id": "oAXesU9vQGLX"
      },
      "source": [
        "# **credit card fraud dection**\n",
        "\n",
        "> \n",
        "\n"
      ]
    },
    {
      "cell_type": "code",
      "metadata": {
        "colab": {
          "base_uri": "https://localhost:8080/"
        },
        "id": "3zYumboN1Puu",
        "outputId": "c6f94307-6c5f-41f3-c2c1-908afdd521f3"
      },
      "source": [
        "from google.colab import drive\r\n",
        "drive.mount('/content/drive')"
      ],
      "execution_count": 3,
      "outputs": [
        {
          "output_type": "stream",
          "text": [
            "Drive already mounted at /content/drive; to attempt to forcibly remount, call drive.mount(\"/content/drive\", force_remount=True).\n"
          ],
          "name": "stdout"
        }
      ]
    },
    {
      "cell_type": "code",
      "metadata": {
        "colab": {
          "base_uri": "https://localhost:8080/"
        },
        "id": "1kESlaFV1ty7",
        "outputId": "1bef8323-75d0-4c18-be22-dc0906e4d876"
      },
      "source": [
        "drive.mount(\"/content/drive\", force_remount=True)"
      ],
      "execution_count": 377,
      "outputs": [
        {
          "output_type": "stream",
          "text": [
            "Mounted at /content/drive\n"
          ],
          "name": "stdout"
        }
      ]
    },
    {
      "cell_type": "code",
      "metadata": {
        "colab": {
          "base_uri": "https://localhost:8080/",
          "height": 35
        },
        "id": "T8yqc030qI5A",
        "outputId": "acd70637-b9a4-4ef0-c629-a7aed85fa19b"
      },
      "source": [
        "pwd"
      ],
      "execution_count": 10,
      "outputs": [
        {
          "output_type": "execute_result",
          "data": {
            "application/vnd.google.colaboratory.intrinsic+json": {
              "type": "string"
            },
            "text/plain": [
              "'/content'"
            ]
          },
          "metadata": {
            "tags": []
          },
          "execution_count": 10
        }
      ]
    },
    {
      "cell_type": "code",
      "metadata": {
        "colab": {
          "base_uri": "https://localhost:8080/"
        },
        "id": "yip7H9ytpZsW",
        "outputId": "feb87773-5fa9-450e-8509-04370240ceaa"
      },
      "source": [
        "! git clone https://github.com/ranjithkumar910/credit-card-fraud-detection.git"
      ],
      "execution_count": 9,
      "outputs": [
        {
          "output_type": "stream",
          "text": [
            "Cloning into 'credit-card-fraud-detection'...\n",
            "warning: You appear to have cloned an empty repository.\n"
          ],
          "name": "stdout"
        }
      ]
    },
    {
      "cell_type": "code",
      "metadata": {
        "id": "Dz35Cne8am3_"
      },
      "source": [
        "import pandas as pd\n"
      ],
      "execution_count": 4,
      "outputs": []
    },
    {
      "cell_type": "markdown",
      "metadata": {
        "id": "M0Oz-x59EW6P"
      },
      "source": [
        "**Exploratory data analysis**\n",
        "\n",
        "\n"
      ]
    },
    {
      "cell_type": "code",
      "metadata": {
        "id": "dyZuz1AOkHTj"
      },
      "source": [
        "df=pd.read_csv(\"/content/creditcardnewnew.csv\") "
      ],
      "execution_count": null,
      "outputs": []
    },
    {
      "cell_type": "code",
      "metadata": {
        "colab": {
          "base_uri": "https://localhost:8080/"
        },
        "id": "0e8P8DgVkN6D",
        "outputId": "cf9344a5-843a-4abd-81cd-0b8eb741a406"
      },
      "source": [
        "df.shape,df.shape[0],df.shape[1]"
      ],
      "execution_count": 385,
      "outputs": [
        {
          "output_type": "execute_result",
          "data": {
            "text/plain": [
              "((284807, 31), 284807, 31)"
            ]
          },
          "metadata": {
            "tags": []
          },
          "execution_count": 385
        }
      ]
    },
    {
      "cell_type": "code",
      "metadata": {
        "colab": {
          "base_uri": "https://localhost:8080/",
          "height": 317
        },
        "id": "eKbaeqMPkYp9",
        "outputId": "ba3797b4-5718-4c3e-eda0-c39c29fedaf3"
      },
      "source": [
        "df.describe()"
      ],
      "execution_count": 11,
      "outputs": [
        {
          "output_type": "execute_result",
          "data": {
            "text/html": [
              "<div>\n",
              "<style scoped>\n",
              "    .dataframe tbody tr th:only-of-type {\n",
              "        vertical-align: middle;\n",
              "    }\n",
              "\n",
              "    .dataframe tbody tr th {\n",
              "        vertical-align: top;\n",
              "    }\n",
              "\n",
              "    .dataframe thead th {\n",
              "        text-align: right;\n",
              "    }\n",
              "</style>\n",
              "<table border=\"1\" class=\"dataframe\">\n",
              "  <thead>\n",
              "    <tr style=\"text-align: right;\">\n",
              "      <th></th>\n",
              "      <th>Time</th>\n",
              "      <th>V1</th>\n",
              "      <th>V2</th>\n",
              "      <th>V3</th>\n",
              "      <th>V4</th>\n",
              "      <th>V5</th>\n",
              "      <th>V6</th>\n",
              "      <th>V7</th>\n",
              "      <th>V8</th>\n",
              "      <th>V9</th>\n",
              "      <th>V10</th>\n",
              "      <th>V11</th>\n",
              "      <th>V12</th>\n",
              "      <th>V13</th>\n",
              "      <th>V14</th>\n",
              "      <th>V15</th>\n",
              "      <th>V16</th>\n",
              "      <th>V17</th>\n",
              "      <th>V18</th>\n",
              "      <th>V19</th>\n",
              "      <th>V20</th>\n",
              "      <th>V21</th>\n",
              "      <th>V22</th>\n",
              "      <th>V23</th>\n",
              "      <th>V24</th>\n",
              "      <th>V25</th>\n",
              "      <th>V26</th>\n",
              "      <th>V27</th>\n",
              "      <th>V28</th>\n",
              "      <th>Amount</th>\n",
              "      <th>Class</th>\n",
              "    </tr>\n",
              "  </thead>\n",
              "  <tbody>\n",
              "    <tr>\n",
              "      <th>count</th>\n",
              "      <td>284807.000000</td>\n",
              "      <td>2.848070e+05</td>\n",
              "      <td>2.848070e+05</td>\n",
              "      <td>2.848070e+05</td>\n",
              "      <td>2.848070e+05</td>\n",
              "      <td>2.848070e+05</td>\n",
              "      <td>2.848070e+05</td>\n",
              "      <td>2.848070e+05</td>\n",
              "      <td>2.848070e+05</td>\n",
              "      <td>2.848070e+05</td>\n",
              "      <td>2.848070e+05</td>\n",
              "      <td>2.848070e+05</td>\n",
              "      <td>2.848070e+05</td>\n",
              "      <td>2.848070e+05</td>\n",
              "      <td>2.848070e+05</td>\n",
              "      <td>2.848070e+05</td>\n",
              "      <td>2.848070e+05</td>\n",
              "      <td>2.848070e+05</td>\n",
              "      <td>2.848070e+05</td>\n",
              "      <td>2.848070e+05</td>\n",
              "      <td>2.848070e+05</td>\n",
              "      <td>2.848070e+05</td>\n",
              "      <td>2.848070e+05</td>\n",
              "      <td>2.848070e+05</td>\n",
              "      <td>2.848070e+05</td>\n",
              "      <td>2.848070e+05</td>\n",
              "      <td>2.848070e+05</td>\n",
              "      <td>2.848070e+05</td>\n",
              "      <td>2.848070e+05</td>\n",
              "      <td>284807.000000</td>\n",
              "      <td>284807.000000</td>\n",
              "    </tr>\n",
              "    <tr>\n",
              "      <th>mean</th>\n",
              "      <td>94813.859575</td>\n",
              "      <td>3.919560e-15</td>\n",
              "      <td>5.688174e-16</td>\n",
              "      <td>-8.769071e-15</td>\n",
              "      <td>2.782312e-15</td>\n",
              "      <td>-1.552563e-15</td>\n",
              "      <td>2.010663e-15</td>\n",
              "      <td>-1.694249e-15</td>\n",
              "      <td>-1.927028e-16</td>\n",
              "      <td>-3.137024e-15</td>\n",
              "      <td>1.768627e-15</td>\n",
              "      <td>9.170318e-16</td>\n",
              "      <td>-1.810658e-15</td>\n",
              "      <td>1.693438e-15</td>\n",
              "      <td>1.479045e-15</td>\n",
              "      <td>3.482336e-15</td>\n",
              "      <td>1.392007e-15</td>\n",
              "      <td>-7.528491e-16</td>\n",
              "      <td>4.328772e-16</td>\n",
              "      <td>9.049732e-16</td>\n",
              "      <td>5.085503e-16</td>\n",
              "      <td>1.537294e-16</td>\n",
              "      <td>7.959909e-16</td>\n",
              "      <td>5.367590e-16</td>\n",
              "      <td>4.458112e-15</td>\n",
              "      <td>1.453003e-15</td>\n",
              "      <td>1.699104e-15</td>\n",
              "      <td>-3.660161e-16</td>\n",
              "      <td>-1.206049e-16</td>\n",
              "      <td>88.349619</td>\n",
              "      <td>0.001727</td>\n",
              "    </tr>\n",
              "    <tr>\n",
              "      <th>std</th>\n",
              "      <td>47488.145955</td>\n",
              "      <td>1.958696e+00</td>\n",
              "      <td>1.651309e+00</td>\n",
              "      <td>1.516255e+00</td>\n",
              "      <td>1.415869e+00</td>\n",
              "      <td>1.380247e+00</td>\n",
              "      <td>1.332271e+00</td>\n",
              "      <td>1.237094e+00</td>\n",
              "      <td>1.194353e+00</td>\n",
              "      <td>1.098632e+00</td>\n",
              "      <td>1.088850e+00</td>\n",
              "      <td>1.020713e+00</td>\n",
              "      <td>9.992014e-01</td>\n",
              "      <td>9.952742e-01</td>\n",
              "      <td>9.585956e-01</td>\n",
              "      <td>9.153160e-01</td>\n",
              "      <td>8.762529e-01</td>\n",
              "      <td>8.493371e-01</td>\n",
              "      <td>8.381762e-01</td>\n",
              "      <td>8.140405e-01</td>\n",
              "      <td>7.709250e-01</td>\n",
              "      <td>7.345240e-01</td>\n",
              "      <td>7.257016e-01</td>\n",
              "      <td>6.244603e-01</td>\n",
              "      <td>6.056471e-01</td>\n",
              "      <td>5.212781e-01</td>\n",
              "      <td>4.822270e-01</td>\n",
              "      <td>4.036325e-01</td>\n",
              "      <td>3.300833e-01</td>\n",
              "      <td>250.120109</td>\n",
              "      <td>0.041527</td>\n",
              "    </tr>\n",
              "    <tr>\n",
              "      <th>min</th>\n",
              "      <td>0.000000</td>\n",
              "      <td>-5.640751e+01</td>\n",
              "      <td>-7.271573e+01</td>\n",
              "      <td>-4.832559e+01</td>\n",
              "      <td>-5.683171e+00</td>\n",
              "      <td>-1.137433e+02</td>\n",
              "      <td>-2.616051e+01</td>\n",
              "      <td>-4.355724e+01</td>\n",
              "      <td>-7.321672e+01</td>\n",
              "      <td>-1.343407e+01</td>\n",
              "      <td>-2.458826e+01</td>\n",
              "      <td>-4.797473e+00</td>\n",
              "      <td>-1.868371e+01</td>\n",
              "      <td>-5.791881e+00</td>\n",
              "      <td>-1.921433e+01</td>\n",
              "      <td>-4.498945e+00</td>\n",
              "      <td>-1.412985e+01</td>\n",
              "      <td>-2.516280e+01</td>\n",
              "      <td>-9.498746e+00</td>\n",
              "      <td>-7.213527e+00</td>\n",
              "      <td>-5.449772e+01</td>\n",
              "      <td>-3.483038e+01</td>\n",
              "      <td>-1.093314e+01</td>\n",
              "      <td>-4.480774e+01</td>\n",
              "      <td>-2.836627e+00</td>\n",
              "      <td>-1.029540e+01</td>\n",
              "      <td>-2.604551e+00</td>\n",
              "      <td>-2.256568e+01</td>\n",
              "      <td>-1.543008e+01</td>\n",
              "      <td>0.000000</td>\n",
              "      <td>0.000000</td>\n",
              "    </tr>\n",
              "    <tr>\n",
              "      <th>25%</th>\n",
              "      <td>54201.500000</td>\n",
              "      <td>-9.203734e-01</td>\n",
              "      <td>-5.985499e-01</td>\n",
              "      <td>-8.903648e-01</td>\n",
              "      <td>-8.486401e-01</td>\n",
              "      <td>-6.915971e-01</td>\n",
              "      <td>-7.682956e-01</td>\n",
              "      <td>-5.540759e-01</td>\n",
              "      <td>-2.086297e-01</td>\n",
              "      <td>-6.430976e-01</td>\n",
              "      <td>-5.354257e-01</td>\n",
              "      <td>-7.624942e-01</td>\n",
              "      <td>-4.055715e-01</td>\n",
              "      <td>-6.485393e-01</td>\n",
              "      <td>-4.255740e-01</td>\n",
              "      <td>-5.828843e-01</td>\n",
              "      <td>-4.680368e-01</td>\n",
              "      <td>-4.837483e-01</td>\n",
              "      <td>-4.988498e-01</td>\n",
              "      <td>-4.562989e-01</td>\n",
              "      <td>-2.117214e-01</td>\n",
              "      <td>-2.283949e-01</td>\n",
              "      <td>-5.423504e-01</td>\n",
              "      <td>-1.618463e-01</td>\n",
              "      <td>-3.545861e-01</td>\n",
              "      <td>-3.171451e-01</td>\n",
              "      <td>-3.269839e-01</td>\n",
              "      <td>-7.083953e-02</td>\n",
              "      <td>-5.295979e-02</td>\n",
              "      <td>5.600000</td>\n",
              "      <td>0.000000</td>\n",
              "    </tr>\n",
              "    <tr>\n",
              "      <th>50%</th>\n",
              "      <td>84692.000000</td>\n",
              "      <td>1.810880e-02</td>\n",
              "      <td>6.548556e-02</td>\n",
              "      <td>1.798463e-01</td>\n",
              "      <td>-1.984653e-02</td>\n",
              "      <td>-5.433583e-02</td>\n",
              "      <td>-2.741871e-01</td>\n",
              "      <td>4.010308e-02</td>\n",
              "      <td>2.235804e-02</td>\n",
              "      <td>-5.142873e-02</td>\n",
              "      <td>-9.291738e-02</td>\n",
              "      <td>-3.275735e-02</td>\n",
              "      <td>1.400326e-01</td>\n",
              "      <td>-1.356806e-02</td>\n",
              "      <td>5.060132e-02</td>\n",
              "      <td>4.807155e-02</td>\n",
              "      <td>6.641332e-02</td>\n",
              "      <td>-6.567575e-02</td>\n",
              "      <td>-3.636312e-03</td>\n",
              "      <td>3.734823e-03</td>\n",
              "      <td>-6.248109e-02</td>\n",
              "      <td>-2.945017e-02</td>\n",
              "      <td>6.781943e-03</td>\n",
              "      <td>-1.119293e-02</td>\n",
              "      <td>4.097606e-02</td>\n",
              "      <td>1.659350e-02</td>\n",
              "      <td>-5.213911e-02</td>\n",
              "      <td>1.342146e-03</td>\n",
              "      <td>1.124383e-02</td>\n",
              "      <td>22.000000</td>\n",
              "      <td>0.000000</td>\n",
              "    </tr>\n",
              "    <tr>\n",
              "      <th>75%</th>\n",
              "      <td>139320.500000</td>\n",
              "      <td>1.315642e+00</td>\n",
              "      <td>8.037239e-01</td>\n",
              "      <td>1.027196e+00</td>\n",
              "      <td>7.433413e-01</td>\n",
              "      <td>6.119264e-01</td>\n",
              "      <td>3.985649e-01</td>\n",
              "      <td>5.704361e-01</td>\n",
              "      <td>3.273459e-01</td>\n",
              "      <td>5.971390e-01</td>\n",
              "      <td>4.539234e-01</td>\n",
              "      <td>7.395934e-01</td>\n",
              "      <td>6.182380e-01</td>\n",
              "      <td>6.625050e-01</td>\n",
              "      <td>4.931498e-01</td>\n",
              "      <td>6.488208e-01</td>\n",
              "      <td>5.232963e-01</td>\n",
              "      <td>3.996750e-01</td>\n",
              "      <td>5.008067e-01</td>\n",
              "      <td>4.589494e-01</td>\n",
              "      <td>1.330408e-01</td>\n",
              "      <td>1.863772e-01</td>\n",
              "      <td>5.285536e-01</td>\n",
              "      <td>1.476421e-01</td>\n",
              "      <td>4.395266e-01</td>\n",
              "      <td>3.507156e-01</td>\n",
              "      <td>2.409522e-01</td>\n",
              "      <td>9.104512e-02</td>\n",
              "      <td>7.827995e-02</td>\n",
              "      <td>77.165000</td>\n",
              "      <td>0.000000</td>\n",
              "    </tr>\n",
              "    <tr>\n",
              "      <th>max</th>\n",
              "      <td>172792.000000</td>\n",
              "      <td>2.454930e+00</td>\n",
              "      <td>2.205773e+01</td>\n",
              "      <td>9.382558e+00</td>\n",
              "      <td>1.687534e+01</td>\n",
              "      <td>3.480167e+01</td>\n",
              "      <td>7.330163e+01</td>\n",
              "      <td>1.205895e+02</td>\n",
              "      <td>2.000721e+01</td>\n",
              "      <td>1.559499e+01</td>\n",
              "      <td>2.374514e+01</td>\n",
              "      <td>1.201891e+01</td>\n",
              "      <td>7.848392e+00</td>\n",
              "      <td>7.126883e+00</td>\n",
              "      <td>1.052677e+01</td>\n",
              "      <td>8.877742e+00</td>\n",
              "      <td>1.731511e+01</td>\n",
              "      <td>9.253526e+00</td>\n",
              "      <td>5.041069e+00</td>\n",
              "      <td>5.591971e+00</td>\n",
              "      <td>3.942090e+01</td>\n",
              "      <td>2.720284e+01</td>\n",
              "      <td>1.050309e+01</td>\n",
              "      <td>2.252841e+01</td>\n",
              "      <td>4.584549e+00</td>\n",
              "      <td>7.519589e+00</td>\n",
              "      <td>3.517346e+00</td>\n",
              "      <td>3.161220e+01</td>\n",
              "      <td>3.384781e+01</td>\n",
              "      <td>25691.160000</td>\n",
              "      <td>1.000000</td>\n",
              "    </tr>\n",
              "  </tbody>\n",
              "</table>\n",
              "</div>"
            ],
            "text/plain": [
              "                Time            V1  ...         Amount          Class\n",
              "count  284807.000000  2.848070e+05  ...  284807.000000  284807.000000\n",
              "mean    94813.859575  3.919560e-15  ...      88.349619       0.001727\n",
              "std     47488.145955  1.958696e+00  ...     250.120109       0.041527\n",
              "min         0.000000 -5.640751e+01  ...       0.000000       0.000000\n",
              "25%     54201.500000 -9.203734e-01  ...       5.600000       0.000000\n",
              "50%     84692.000000  1.810880e-02  ...      22.000000       0.000000\n",
              "75%    139320.500000  1.315642e+00  ...      77.165000       0.000000\n",
              "max    172792.000000  2.454930e+00  ...   25691.160000       1.000000\n",
              "\n",
              "[8 rows x 31 columns]"
            ]
          },
          "metadata": {
            "tags": []
          },
          "execution_count": 11
        }
      ]
    },
    {
      "cell_type": "code",
      "metadata": {
        "colab": {
          "base_uri": "https://localhost:8080/"
        },
        "id": "8gQH_dPgkaG1",
        "outputId": "18b455f8-cabd-4172-ba4a-c21def4d7dff"
      },
      "source": [
        "df.columns"
      ],
      "execution_count": 12,
      "outputs": [
        {
          "output_type": "execute_result",
          "data": {
            "text/plain": [
              "Index(['Time', 'V1', 'V2', 'V3', 'V4', 'V5', 'V6', 'V7', 'V8', 'V9', 'V10',\n",
              "       'V11', 'V12', 'V13', 'V14', 'V15', 'V16', 'V17', 'V18', 'V19', 'V20',\n",
              "       'V21', 'V22', 'V23', 'V24', 'V25', 'V26', 'V27', 'V28', 'Amount',\n",
              "       'Class'],\n",
              "      dtype='object')"
            ]
          },
          "metadata": {
            "tags": []
          },
          "execution_count": 12
        }
      ]
    },
    {
      "cell_type": "markdown",
      "metadata": {
        "id": "ctlsMfstFHk8"
      },
      "source": [
        "**checking for null values**"
      ]
    },
    {
      "cell_type": "code",
      "metadata": {
        "colab": {
          "base_uri": "https://localhost:8080/"
        },
        "id": "oqiWBn5tkg_h",
        "outputId": "e5f8bed7-c0f9-449d-d85e-c6808076db2c"
      },
      "source": [
        "df.isnull().sum().sum()\n"
      ],
      "execution_count": 13,
      "outputs": [
        {
          "output_type": "execute_result",
          "data": {
            "text/plain": [
              "0"
            ]
          },
          "metadata": {
            "tags": []
          },
          "execution_count": 13
        }
      ]
    },
    {
      "cell_type": "markdown",
      "metadata": {
        "id": "eqZNNIKOGoBc"
      },
      "source": [
        "there is no **null** values , if you have null values in your data. if it is regression problem you can replace with mean or median , if it is classification problem you can remove it . if your data is sufficient . "
      ]
    },
    {
      "cell_type": "code",
      "metadata": {
        "colab": {
          "base_uri": "https://localhost:8080/"
        },
        "id": "fRNubpMBmgyk",
        "outputId": "94e7892a-e2d0-452a-c299-4fb852b2b9e3"
      },
      "source": [
        "df.shape"
      ],
      "execution_count": 14,
      "outputs": [
        {
          "output_type": "execute_result",
          "data": {
            "text/plain": [
              "(284807, 31)"
            ]
          },
          "metadata": {
            "tags": []
          },
          "execution_count": 14
        }
      ]
    },
    {
      "cell_type": "code",
      "metadata": {
        "colab": {
          "base_uri": "https://localhost:8080/",
          "height": 317
        },
        "id": "374WcpIQmnAL",
        "outputId": "bfdc00db-8e83-4946-aadf-8fdd554e121f"
      },
      "source": [
        "df.describe()"
      ],
      "execution_count": 15,
      "outputs": [
        {
          "output_type": "execute_result",
          "data": {
            "text/html": [
              "<div>\n",
              "<style scoped>\n",
              "    .dataframe tbody tr th:only-of-type {\n",
              "        vertical-align: middle;\n",
              "    }\n",
              "\n",
              "    .dataframe tbody tr th {\n",
              "        vertical-align: top;\n",
              "    }\n",
              "\n",
              "    .dataframe thead th {\n",
              "        text-align: right;\n",
              "    }\n",
              "</style>\n",
              "<table border=\"1\" class=\"dataframe\">\n",
              "  <thead>\n",
              "    <tr style=\"text-align: right;\">\n",
              "      <th></th>\n",
              "      <th>Time</th>\n",
              "      <th>V1</th>\n",
              "      <th>V2</th>\n",
              "      <th>V3</th>\n",
              "      <th>V4</th>\n",
              "      <th>V5</th>\n",
              "      <th>V6</th>\n",
              "      <th>V7</th>\n",
              "      <th>V8</th>\n",
              "      <th>V9</th>\n",
              "      <th>V10</th>\n",
              "      <th>V11</th>\n",
              "      <th>V12</th>\n",
              "      <th>V13</th>\n",
              "      <th>V14</th>\n",
              "      <th>V15</th>\n",
              "      <th>V16</th>\n",
              "      <th>V17</th>\n",
              "      <th>V18</th>\n",
              "      <th>V19</th>\n",
              "      <th>V20</th>\n",
              "      <th>V21</th>\n",
              "      <th>V22</th>\n",
              "      <th>V23</th>\n",
              "      <th>V24</th>\n",
              "      <th>V25</th>\n",
              "      <th>V26</th>\n",
              "      <th>V27</th>\n",
              "      <th>V28</th>\n",
              "      <th>Amount</th>\n",
              "      <th>Class</th>\n",
              "    </tr>\n",
              "  </thead>\n",
              "  <tbody>\n",
              "    <tr>\n",
              "      <th>count</th>\n",
              "      <td>284807.000000</td>\n",
              "      <td>2.848070e+05</td>\n",
              "      <td>2.848070e+05</td>\n",
              "      <td>2.848070e+05</td>\n",
              "      <td>2.848070e+05</td>\n",
              "      <td>2.848070e+05</td>\n",
              "      <td>2.848070e+05</td>\n",
              "      <td>2.848070e+05</td>\n",
              "      <td>2.848070e+05</td>\n",
              "      <td>2.848070e+05</td>\n",
              "      <td>2.848070e+05</td>\n",
              "      <td>2.848070e+05</td>\n",
              "      <td>2.848070e+05</td>\n",
              "      <td>2.848070e+05</td>\n",
              "      <td>2.848070e+05</td>\n",
              "      <td>2.848070e+05</td>\n",
              "      <td>2.848070e+05</td>\n",
              "      <td>2.848070e+05</td>\n",
              "      <td>2.848070e+05</td>\n",
              "      <td>2.848070e+05</td>\n",
              "      <td>2.848070e+05</td>\n",
              "      <td>2.848070e+05</td>\n",
              "      <td>2.848070e+05</td>\n",
              "      <td>2.848070e+05</td>\n",
              "      <td>2.848070e+05</td>\n",
              "      <td>2.848070e+05</td>\n",
              "      <td>2.848070e+05</td>\n",
              "      <td>2.848070e+05</td>\n",
              "      <td>2.848070e+05</td>\n",
              "      <td>284807.000000</td>\n",
              "      <td>284807.000000</td>\n",
              "    </tr>\n",
              "    <tr>\n",
              "      <th>mean</th>\n",
              "      <td>94813.859575</td>\n",
              "      <td>3.919560e-15</td>\n",
              "      <td>5.688174e-16</td>\n",
              "      <td>-8.769071e-15</td>\n",
              "      <td>2.782312e-15</td>\n",
              "      <td>-1.552563e-15</td>\n",
              "      <td>2.010663e-15</td>\n",
              "      <td>-1.694249e-15</td>\n",
              "      <td>-1.927028e-16</td>\n",
              "      <td>-3.137024e-15</td>\n",
              "      <td>1.768627e-15</td>\n",
              "      <td>9.170318e-16</td>\n",
              "      <td>-1.810658e-15</td>\n",
              "      <td>1.693438e-15</td>\n",
              "      <td>1.479045e-15</td>\n",
              "      <td>3.482336e-15</td>\n",
              "      <td>1.392007e-15</td>\n",
              "      <td>-7.528491e-16</td>\n",
              "      <td>4.328772e-16</td>\n",
              "      <td>9.049732e-16</td>\n",
              "      <td>5.085503e-16</td>\n",
              "      <td>1.537294e-16</td>\n",
              "      <td>7.959909e-16</td>\n",
              "      <td>5.367590e-16</td>\n",
              "      <td>4.458112e-15</td>\n",
              "      <td>1.453003e-15</td>\n",
              "      <td>1.699104e-15</td>\n",
              "      <td>-3.660161e-16</td>\n",
              "      <td>-1.206049e-16</td>\n",
              "      <td>88.349619</td>\n",
              "      <td>0.001727</td>\n",
              "    </tr>\n",
              "    <tr>\n",
              "      <th>std</th>\n",
              "      <td>47488.145955</td>\n",
              "      <td>1.958696e+00</td>\n",
              "      <td>1.651309e+00</td>\n",
              "      <td>1.516255e+00</td>\n",
              "      <td>1.415869e+00</td>\n",
              "      <td>1.380247e+00</td>\n",
              "      <td>1.332271e+00</td>\n",
              "      <td>1.237094e+00</td>\n",
              "      <td>1.194353e+00</td>\n",
              "      <td>1.098632e+00</td>\n",
              "      <td>1.088850e+00</td>\n",
              "      <td>1.020713e+00</td>\n",
              "      <td>9.992014e-01</td>\n",
              "      <td>9.952742e-01</td>\n",
              "      <td>9.585956e-01</td>\n",
              "      <td>9.153160e-01</td>\n",
              "      <td>8.762529e-01</td>\n",
              "      <td>8.493371e-01</td>\n",
              "      <td>8.381762e-01</td>\n",
              "      <td>8.140405e-01</td>\n",
              "      <td>7.709250e-01</td>\n",
              "      <td>7.345240e-01</td>\n",
              "      <td>7.257016e-01</td>\n",
              "      <td>6.244603e-01</td>\n",
              "      <td>6.056471e-01</td>\n",
              "      <td>5.212781e-01</td>\n",
              "      <td>4.822270e-01</td>\n",
              "      <td>4.036325e-01</td>\n",
              "      <td>3.300833e-01</td>\n",
              "      <td>250.120109</td>\n",
              "      <td>0.041527</td>\n",
              "    </tr>\n",
              "    <tr>\n",
              "      <th>min</th>\n",
              "      <td>0.000000</td>\n",
              "      <td>-5.640751e+01</td>\n",
              "      <td>-7.271573e+01</td>\n",
              "      <td>-4.832559e+01</td>\n",
              "      <td>-5.683171e+00</td>\n",
              "      <td>-1.137433e+02</td>\n",
              "      <td>-2.616051e+01</td>\n",
              "      <td>-4.355724e+01</td>\n",
              "      <td>-7.321672e+01</td>\n",
              "      <td>-1.343407e+01</td>\n",
              "      <td>-2.458826e+01</td>\n",
              "      <td>-4.797473e+00</td>\n",
              "      <td>-1.868371e+01</td>\n",
              "      <td>-5.791881e+00</td>\n",
              "      <td>-1.921433e+01</td>\n",
              "      <td>-4.498945e+00</td>\n",
              "      <td>-1.412985e+01</td>\n",
              "      <td>-2.516280e+01</td>\n",
              "      <td>-9.498746e+00</td>\n",
              "      <td>-7.213527e+00</td>\n",
              "      <td>-5.449772e+01</td>\n",
              "      <td>-3.483038e+01</td>\n",
              "      <td>-1.093314e+01</td>\n",
              "      <td>-4.480774e+01</td>\n",
              "      <td>-2.836627e+00</td>\n",
              "      <td>-1.029540e+01</td>\n",
              "      <td>-2.604551e+00</td>\n",
              "      <td>-2.256568e+01</td>\n",
              "      <td>-1.543008e+01</td>\n",
              "      <td>0.000000</td>\n",
              "      <td>0.000000</td>\n",
              "    </tr>\n",
              "    <tr>\n",
              "      <th>25%</th>\n",
              "      <td>54201.500000</td>\n",
              "      <td>-9.203734e-01</td>\n",
              "      <td>-5.985499e-01</td>\n",
              "      <td>-8.903648e-01</td>\n",
              "      <td>-8.486401e-01</td>\n",
              "      <td>-6.915971e-01</td>\n",
              "      <td>-7.682956e-01</td>\n",
              "      <td>-5.540759e-01</td>\n",
              "      <td>-2.086297e-01</td>\n",
              "      <td>-6.430976e-01</td>\n",
              "      <td>-5.354257e-01</td>\n",
              "      <td>-7.624942e-01</td>\n",
              "      <td>-4.055715e-01</td>\n",
              "      <td>-6.485393e-01</td>\n",
              "      <td>-4.255740e-01</td>\n",
              "      <td>-5.828843e-01</td>\n",
              "      <td>-4.680368e-01</td>\n",
              "      <td>-4.837483e-01</td>\n",
              "      <td>-4.988498e-01</td>\n",
              "      <td>-4.562989e-01</td>\n",
              "      <td>-2.117214e-01</td>\n",
              "      <td>-2.283949e-01</td>\n",
              "      <td>-5.423504e-01</td>\n",
              "      <td>-1.618463e-01</td>\n",
              "      <td>-3.545861e-01</td>\n",
              "      <td>-3.171451e-01</td>\n",
              "      <td>-3.269839e-01</td>\n",
              "      <td>-7.083953e-02</td>\n",
              "      <td>-5.295979e-02</td>\n",
              "      <td>5.600000</td>\n",
              "      <td>0.000000</td>\n",
              "    </tr>\n",
              "    <tr>\n",
              "      <th>50%</th>\n",
              "      <td>84692.000000</td>\n",
              "      <td>1.810880e-02</td>\n",
              "      <td>6.548556e-02</td>\n",
              "      <td>1.798463e-01</td>\n",
              "      <td>-1.984653e-02</td>\n",
              "      <td>-5.433583e-02</td>\n",
              "      <td>-2.741871e-01</td>\n",
              "      <td>4.010308e-02</td>\n",
              "      <td>2.235804e-02</td>\n",
              "      <td>-5.142873e-02</td>\n",
              "      <td>-9.291738e-02</td>\n",
              "      <td>-3.275735e-02</td>\n",
              "      <td>1.400326e-01</td>\n",
              "      <td>-1.356806e-02</td>\n",
              "      <td>5.060132e-02</td>\n",
              "      <td>4.807155e-02</td>\n",
              "      <td>6.641332e-02</td>\n",
              "      <td>-6.567575e-02</td>\n",
              "      <td>-3.636312e-03</td>\n",
              "      <td>3.734823e-03</td>\n",
              "      <td>-6.248109e-02</td>\n",
              "      <td>-2.945017e-02</td>\n",
              "      <td>6.781943e-03</td>\n",
              "      <td>-1.119293e-02</td>\n",
              "      <td>4.097606e-02</td>\n",
              "      <td>1.659350e-02</td>\n",
              "      <td>-5.213911e-02</td>\n",
              "      <td>1.342146e-03</td>\n",
              "      <td>1.124383e-02</td>\n",
              "      <td>22.000000</td>\n",
              "      <td>0.000000</td>\n",
              "    </tr>\n",
              "    <tr>\n",
              "      <th>75%</th>\n",
              "      <td>139320.500000</td>\n",
              "      <td>1.315642e+00</td>\n",
              "      <td>8.037239e-01</td>\n",
              "      <td>1.027196e+00</td>\n",
              "      <td>7.433413e-01</td>\n",
              "      <td>6.119264e-01</td>\n",
              "      <td>3.985649e-01</td>\n",
              "      <td>5.704361e-01</td>\n",
              "      <td>3.273459e-01</td>\n",
              "      <td>5.971390e-01</td>\n",
              "      <td>4.539234e-01</td>\n",
              "      <td>7.395934e-01</td>\n",
              "      <td>6.182380e-01</td>\n",
              "      <td>6.625050e-01</td>\n",
              "      <td>4.931498e-01</td>\n",
              "      <td>6.488208e-01</td>\n",
              "      <td>5.232963e-01</td>\n",
              "      <td>3.996750e-01</td>\n",
              "      <td>5.008067e-01</td>\n",
              "      <td>4.589494e-01</td>\n",
              "      <td>1.330408e-01</td>\n",
              "      <td>1.863772e-01</td>\n",
              "      <td>5.285536e-01</td>\n",
              "      <td>1.476421e-01</td>\n",
              "      <td>4.395266e-01</td>\n",
              "      <td>3.507156e-01</td>\n",
              "      <td>2.409522e-01</td>\n",
              "      <td>9.104512e-02</td>\n",
              "      <td>7.827995e-02</td>\n",
              "      <td>77.165000</td>\n",
              "      <td>0.000000</td>\n",
              "    </tr>\n",
              "    <tr>\n",
              "      <th>max</th>\n",
              "      <td>172792.000000</td>\n",
              "      <td>2.454930e+00</td>\n",
              "      <td>2.205773e+01</td>\n",
              "      <td>9.382558e+00</td>\n",
              "      <td>1.687534e+01</td>\n",
              "      <td>3.480167e+01</td>\n",
              "      <td>7.330163e+01</td>\n",
              "      <td>1.205895e+02</td>\n",
              "      <td>2.000721e+01</td>\n",
              "      <td>1.559499e+01</td>\n",
              "      <td>2.374514e+01</td>\n",
              "      <td>1.201891e+01</td>\n",
              "      <td>7.848392e+00</td>\n",
              "      <td>7.126883e+00</td>\n",
              "      <td>1.052677e+01</td>\n",
              "      <td>8.877742e+00</td>\n",
              "      <td>1.731511e+01</td>\n",
              "      <td>9.253526e+00</td>\n",
              "      <td>5.041069e+00</td>\n",
              "      <td>5.591971e+00</td>\n",
              "      <td>3.942090e+01</td>\n",
              "      <td>2.720284e+01</td>\n",
              "      <td>1.050309e+01</td>\n",
              "      <td>2.252841e+01</td>\n",
              "      <td>4.584549e+00</td>\n",
              "      <td>7.519589e+00</td>\n",
              "      <td>3.517346e+00</td>\n",
              "      <td>3.161220e+01</td>\n",
              "      <td>3.384781e+01</td>\n",
              "      <td>25691.160000</td>\n",
              "      <td>1.000000</td>\n",
              "    </tr>\n",
              "  </tbody>\n",
              "</table>\n",
              "</div>"
            ],
            "text/plain": [
              "                Time            V1  ...         Amount          Class\n",
              "count  284807.000000  2.848070e+05  ...  284807.000000  284807.000000\n",
              "mean    94813.859575  3.919560e-15  ...      88.349619       0.001727\n",
              "std     47488.145955  1.958696e+00  ...     250.120109       0.041527\n",
              "min         0.000000 -5.640751e+01  ...       0.000000       0.000000\n",
              "25%     54201.500000 -9.203734e-01  ...       5.600000       0.000000\n",
              "50%     84692.000000  1.810880e-02  ...      22.000000       0.000000\n",
              "75%    139320.500000  1.315642e+00  ...      77.165000       0.000000\n",
              "max    172792.000000  2.454930e+00  ...   25691.160000       1.000000\n",
              "\n",
              "[8 rows x 31 columns]"
            ]
          },
          "metadata": {
            "tags": []
          },
          "execution_count": 15
        }
      ]
    },
    {
      "cell_type": "code",
      "metadata": {
        "colab": {
          "base_uri": "https://localhost:8080/"
        },
        "id": "Ibpn_bljni7A",
        "outputId": "93eca7a2-5b5b-4727-bc0c-1cb347394d68"
      },
      "source": [
        "df['Class'].value_counts()"
      ],
      "execution_count": 16,
      "outputs": [
        {
          "output_type": "execute_result",
          "data": {
            "text/plain": [
              "0    284315\n",
              "1       492\n",
              "Name: Class, dtype: int64"
            ]
          },
          "metadata": {
            "tags": []
          },
          "execution_count": 16
        }
      ]
    },
    {
      "cell_type": "markdown",
      "metadata": {
        "id": "l-JwNeVHFTpk"
      },
      "source": [
        "calss 1 is very less compared to calls 0 , as there is very high difference , it is considered as **imbalance data**"
      ]
    },
    {
      "cell_type": "markdown",
      "metadata": {
        "id": "N1zAu3N3QqNo"
      },
      "source": [
        "***checking the classes w.r.t percentages ***\n",
        "\n",
        "---\n",
        "\n"
      ]
    },
    {
      "cell_type": "code",
      "metadata": {
        "colab": {
          "base_uri": "https://localhost:8080/"
        },
        "id": "njP2Cn9gnygp",
        "outputId": "bd8614ad-c34b-4919-e022-0b67aae551b5"
      },
      "source": [
        "df['Class'].value_counts()[0]/len(df)*100\n",
        "\n"
      ],
      "execution_count": 17,
      "outputs": [
        {
          "output_type": "execute_result",
          "data": {
            "text/plain": [
              "99.82725143693798"
            ]
          },
          "metadata": {
            "tags": []
          },
          "execution_count": 17
        }
      ]
    },
    {
      "cell_type": "code",
      "metadata": {
        "colab": {
          "base_uri": "https://localhost:8080/"
        },
        "id": "fWO3DC1xokPY",
        "outputId": "d02ec7d6-9c1a-4e4c-faae-648ebaf536c9"
      },
      "source": [
        "df['Class'].value_counts()[1]/len(df)*100"
      ],
      "execution_count": 18,
      "outputs": [
        {
          "output_type": "execute_result",
          "data": {
            "text/plain": [
              "0.1727485630620034"
            ]
          },
          "metadata": {
            "tags": []
          },
          "execution_count": 18
        }
      ]
    },
    {
      "cell_type": "code",
      "metadata": {
        "colab": {
          "base_uri": "https://localhost:8080/",
          "height": 279
        },
        "id": "DLf4IX0yomCv",
        "outputId": "4c254403-7627-48d8-cdf3-e644ee09bd95"
      },
      "source": [
        "df['Class'].value_counts().plot(kind='bar')"
      ],
      "execution_count": 19,
      "outputs": [
        {
          "output_type": "execute_result",
          "data": {
            "text/plain": [
              "<matplotlib.axes._subplots.AxesSubplot at 0x7f6ac65a1198>"
            ]
          },
          "metadata": {
            "tags": []
          },
          "execution_count": 19
        },
        {
          "output_type": "display_data",
          "data": {
            "image/png": "[encoded data removed]",
            "text/plain": [
              "<Figure size 432x288 with 1 Axes>"
            ]
          },
          "metadata": {
            "tags": [],
            "needs_background": "light"
          }
        }
      ]
    },
    {
      "cell_type": "code",
      "metadata": {
        "id": "4jBAwWLFtOuD"
      },
      "source": [
        "\n",
        "import matplotlib.pyplot as plt\n",
        "import seaborn as sns"
      ],
      "execution_count": 20,
      "outputs": []
    },
    {
      "cell_type": "markdown",
      "metadata": {
        "id": "qPDd0dlyF8Kx"
      },
      "source": [
        "**visualization of time and amount feature**"
      ]
    },
    {
      "cell_type": "code",
      "metadata": {
        "colab": {
          "base_uri": "https://localhost:8080/",
          "height": 656
        },
        "id": "5v58pjlbPvNW",
        "outputId": "69465059-da6b-4817-f30a-d0bca48c54eb"
      },
      "source": [
        "fig , ax=plt.subplots(2,1,figsize=(12,9))\n",
        "sns.distplot(df.Amount,color='r',ax=ax[0])\n",
        "sns.distplot(df.Time,color='b',ax=ax[1])"
      ],
      "execution_count": 21,
      "outputs": [
        {
          "output_type": "stream",
          "text": [
            "/usr/local/lib/python3.6/dist-packages/seaborn/distributions.py:2551: FutureWarning: `distplot` is a deprecated function and will be removed in a future version. Please adapt your code to use either `displot` (a figure-level function with similar flexibility) or `histplot` (an axes-level function for histograms).\n",
            "  warnings.warn(msg, FutureWarning)\n",
            "/usr/local/lib/python3.6/dist-packages/seaborn/distributions.py:2551: FutureWarning: `distplot` is a deprecated function and will be removed in a future version. Please adapt your code to use either `displot` (a figure-level function with similar flexibility) or `histplot` (an axes-level function for histograms).\n",
            "  warnings.warn(msg, FutureWarning)\n"
          ],
          "name": "stderr"
        },
        {
          "output_type": "execute_result",
          "data": {
            "text/plain": [
              "<matplotlib.axes._subplots.AxesSubplot at 0x7f6ac5817a90>"
            ]
          },
          "metadata": {
            "tags": []
          },
          "execution_count": 21
        },
        {
          "output_type": "display_data",
          "data": {
            "image/png": "[encoded data removed]",
            "text/plain": [
              "<Figure size 864x648 with 2 Axes>"
            ]
          },
          "metadata": {
            "tags": [],
            "needs_background": "light"
          }
        }
      ]
    },
    {
      "cell_type": "markdown",
      "metadata": {
        "id": "MPxSo3qfQ7yq"
      },
      "source": [
        "# feature engineering ( performing scaling )"
      ]
    },
    {
      "cell_type": "code",
      "metadata": {
        "id": "U3L5mKSnS-Y5"
      },
      "source": [
        "from sklearn.preprocessing import StandardScaler, RobustScaler\n",
        "\n",
        "# RobustScaler is less prone to outliers.\n",
        "\n",
        "std_scaler = StandardScaler()\n",
        "rob_scaler = RobustScaler()\n",
        "\n",
        "df['scaled_amount'] = rob_scaler.fit_transform(df['Amount'].values.reshape(-1,1))\n",
        "df['scaled_time'] = rob_scaler.fit_transform(df['Time'].values.reshape(-1,1))\n",
        "df.drop(['Time','Amount'], axis=1, inplace=True)\n",
        "\n"
      ],
      "execution_count": 22,
      "outputs": []
    },
    {
      "cell_type": "code",
      "metadata": {
        "colab": {
          "base_uri": "https://localhost:8080/",
          "height": 224
        },
        "id": "GIQAiCLgS_nK",
        "outputId": "f40bc715-c7a6-43e0-dae2-50ccefdf2768"
      },
      "source": [
        "\n",
        "df.head()\n"
      ],
      "execution_count": 23,
      "outputs": [
        {
          "output_type": "execute_result",
          "data": {
            "text/html": [
              "<div>\n",
              "<style scoped>\n",
              "    .dataframe tbody tr th:only-of-type {\n",
              "        vertical-align: middle;\n",
              "    }\n",
              "\n",
              "    .dataframe tbody tr th {\n",
              "        vertical-align: top;\n",
              "    }\n",
              "\n",
              "    .dataframe thead th {\n",
              "        text-align: right;\n",
              "    }\n",
              "</style>\n",
              "<table border=\"1\" class=\"dataframe\">\n",
              "  <thead>\n",
              "    <tr style=\"text-align: right;\">\n",
              "      <th></th>\n",
              "      <th>V1</th>\n",
              "      <th>V2</th>\n",
              "      <th>V3</th>\n",
              "      <th>V4</th>\n",
              "      <th>V5</th>\n",
              "      <th>V6</th>\n",
              "      <th>V7</th>\n",
              "      <th>V8</th>\n",
              "      <th>V9</th>\n",
              "      <th>V10</th>\n",
              "      <th>V11</th>\n",
              "      <th>V12</th>\n",
              "      <th>V13</th>\n",
              "      <th>V14</th>\n",
              "      <th>V15</th>\n",
              "      <th>V16</th>\n",
              "      <th>V17</th>\n",
              "      <th>V18</th>\n",
              "      <th>V19</th>\n",
              "      <th>V20</th>\n",
              "      <th>V21</th>\n",
              "      <th>V22</th>\n",
              "      <th>V23</th>\n",
              "      <th>V24</th>\n",
              "      <th>V25</th>\n",
              "      <th>V26</th>\n",
              "      <th>V27</th>\n",
              "      <th>V28</th>\n",
              "      <th>Class</th>\n",
              "      <th>scaled_amount</th>\n",
              "      <th>scaled_time</th>\n",
              "    </tr>\n",
              "  </thead>\n",
              "  <tbody>\n",
              "    <tr>\n",
              "      <th>0</th>\n",
              "      <td>-1.359807</td>\n",
              "      <td>-0.072781</td>\n",
              "      <td>2.536347</td>\n",
              "      <td>1.378155</td>\n",
              "      <td>-0.338321</td>\n",
              "      <td>0.462388</td>\n",
              "      <td>0.239599</td>\n",
              "      <td>0.098698</td>\n",
              "      <td>0.363787</td>\n",
              "      <td>0.090794</td>\n",
              "      <td>-0.551600</td>\n",
              "      <td>-0.617801</td>\n",
              "      <td>-0.991390</td>\n",
              "      <td>-0.311169</td>\n",
              "      <td>1.468177</td>\n",
              "      <td>-0.470401</td>\n",
              "      <td>0.207971</td>\n",
              "      <td>0.025791</td>\n",
              "      <td>0.403993</td>\n",
              "      <td>0.251412</td>\n",
              "      <td>-0.018307</td>\n",
              "      <td>0.277838</td>\n",
              "      <td>-0.110474</td>\n",
              "      <td>0.066928</td>\n",
              "      <td>0.128539</td>\n",
              "      <td>-0.189115</td>\n",
              "      <td>0.133558</td>\n",
              "      <td>-0.021053</td>\n",
              "      <td>0</td>\n",
              "      <td>1.783274</td>\n",
              "      <td>-0.994983</td>\n",
              "    </tr>\n",
              "    <tr>\n",
              "      <th>1</th>\n",
              "      <td>1.191857</td>\n",
              "      <td>0.266151</td>\n",
              "      <td>0.166480</td>\n",
              "      <td>0.448154</td>\n",
              "      <td>0.060018</td>\n",
              "      <td>-0.082361</td>\n",
              "      <td>-0.078803</td>\n",
              "      <td>0.085102</td>\n",
              "      <td>-0.255425</td>\n",
              "      <td>-0.166974</td>\n",
              "      <td>1.612727</td>\n",
              "      <td>1.065235</td>\n",
              "      <td>0.489095</td>\n",
              "      <td>-0.143772</td>\n",
              "      <td>0.635558</td>\n",
              "      <td>0.463917</td>\n",
              "      <td>-0.114805</td>\n",
              "      <td>-0.183361</td>\n",
              "      <td>-0.145783</td>\n",
              "      <td>-0.069083</td>\n",
              "      <td>-0.225775</td>\n",
              "      <td>-0.638672</td>\n",
              "      <td>0.101288</td>\n",
              "      <td>-0.339846</td>\n",
              "      <td>0.167170</td>\n",
              "      <td>0.125895</td>\n",
              "      <td>-0.008983</td>\n",
              "      <td>0.014724</td>\n",
              "      <td>0</td>\n",
              "      <td>-0.269825</td>\n",
              "      <td>-0.994983</td>\n",
              "    </tr>\n",
              "    <tr>\n",
              "      <th>2</th>\n",
              "      <td>-1.358354</td>\n",
              "      <td>-1.340163</td>\n",
              "      <td>1.773209</td>\n",
              "      <td>0.379780</td>\n",
              "      <td>-0.503198</td>\n",
              "      <td>1.800499</td>\n",
              "      <td>0.791461</td>\n",
              "      <td>0.247676</td>\n",
              "      <td>-1.514654</td>\n",
              "      <td>0.207643</td>\n",
              "      <td>0.624501</td>\n",
              "      <td>0.066084</td>\n",
              "      <td>0.717293</td>\n",
              "      <td>-0.165946</td>\n",
              "      <td>2.345865</td>\n",
              "      <td>-2.890083</td>\n",
              "      <td>1.109969</td>\n",
              "      <td>-0.121359</td>\n",
              "      <td>-2.261857</td>\n",
              "      <td>0.524980</td>\n",
              "      <td>0.247998</td>\n",
              "      <td>0.771679</td>\n",
              "      <td>0.909412</td>\n",
              "      <td>-0.689281</td>\n",
              "      <td>-0.327642</td>\n",
              "      <td>-0.139097</td>\n",
              "      <td>-0.055353</td>\n",
              "      <td>-0.059752</td>\n",
              "      <td>0</td>\n",
              "      <td>4.983721</td>\n",
              "      <td>-0.994972</td>\n",
              "    </tr>\n",
              "    <tr>\n",
              "      <th>3</th>\n",
              "      <td>-0.966272</td>\n",
              "      <td>-0.185226</td>\n",
              "      <td>1.792993</td>\n",
              "      <td>-0.863291</td>\n",
              "      <td>-0.010309</td>\n",
              "      <td>1.247203</td>\n",
              "      <td>0.237609</td>\n",
              "      <td>0.377436</td>\n",
              "      <td>-1.387024</td>\n",
              "      <td>-0.054952</td>\n",
              "      <td>-0.226487</td>\n",
              "      <td>0.178228</td>\n",
              "      <td>0.507757</td>\n",
              "      <td>-0.287924</td>\n",
              "      <td>-0.631418</td>\n",
              "      <td>-1.059647</td>\n",
              "      <td>-0.684093</td>\n",
              "      <td>1.965775</td>\n",
              "      <td>-1.232622</td>\n",
              "      <td>-0.208038</td>\n",
              "      <td>-0.108300</td>\n",
              "      <td>0.005274</td>\n",
              "      <td>-0.190321</td>\n",
              "      <td>-1.175575</td>\n",
              "      <td>0.647376</td>\n",
              "      <td>-0.221929</td>\n",
              "      <td>0.062723</td>\n",
              "      <td>0.061458</td>\n",
              "      <td>0</td>\n",
              "      <td>1.418291</td>\n",
              "      <td>-0.994972</td>\n",
              "    </tr>\n",
              "    <tr>\n",
              "      <th>4</th>\n",
              "      <td>-1.158233</td>\n",
              "      <td>0.877737</td>\n",
              "      <td>1.548718</td>\n",
              "      <td>0.403034</td>\n",
              "      <td>-0.407193</td>\n",
              "      <td>0.095921</td>\n",
              "      <td>0.592941</td>\n",
              "      <td>-0.270533</td>\n",
              "      <td>0.817739</td>\n",
              "      <td>0.753074</td>\n",
              "      <td>-0.822843</td>\n",
              "      <td>0.538196</td>\n",
              "      <td>1.345852</td>\n",
              "      <td>-1.119670</td>\n",
              "      <td>0.175121</td>\n",
              "      <td>-0.451449</td>\n",
              "      <td>-0.237033</td>\n",
              "      <td>-0.038195</td>\n",
              "      <td>0.803487</td>\n",
              "      <td>0.408542</td>\n",
              "      <td>-0.009431</td>\n",
              "      <td>0.798278</td>\n",
              "      <td>-0.137458</td>\n",
              "      <td>0.141267</td>\n",
              "      <td>-0.206010</td>\n",
              "      <td>0.502292</td>\n",
              "      <td>0.219422</td>\n",
              "      <td>0.215153</td>\n",
              "      <td>0</td>\n",
              "      <td>0.670579</td>\n",
              "      <td>-0.994960</td>\n",
              "    </tr>\n",
              "  </tbody>\n",
              "</table>\n",
              "</div>"
            ],
            "text/plain": [
              "         V1        V2        V3  ...  Class  scaled_amount  scaled_time\n",
              "0 -1.359807 -0.072781  2.536347  ...      0       1.783274    -0.994983\n",
              "1  1.191857  0.266151  0.166480  ...      0      -0.269825    -0.994983\n",
              "2 -1.358354 -1.340163  1.773209  ...      0       4.983721    -0.994972\n",
              "3 -0.966272 -0.185226  1.792993  ...      0       1.418291    -0.994972\n",
              "4 -1.158233  0.877737  1.548718  ...      0       0.670579    -0.994960\n",
              "\n",
              "[5 rows x 31 columns]"
            ]
          },
          "metadata": {
            "tags": []
          },
          "execution_count": 23
        }
      ]
    },
    {
      "cell_type": "code",
      "metadata": {
        "colab": {
          "base_uri": "https://localhost:8080/",
          "height": 224
        },
        "id": "neQs3nkBVBUv",
        "outputId": "2b56c93f-27d6-44b7-c742-2f078c5f82e7"
      },
      "source": [
        "scaled_amount = df['scaled_amount']\n",
        "scaled_time = df['scaled_time']\n",
        "\n",
        "df.drop(['scaled_amount', 'scaled_time'], axis=1, inplace=True)\n",
        "df.insert(0, 'scaled_amount', scaled_amount)\n",
        "df.insert(1, 'scaled_time', scaled_time)\n",
        "\n",
        "# Amount and Time are Scaled!\n",
        "\n",
        "df.head()"
      ],
      "execution_count": 24,
      "outputs": [
        {
          "output_type": "execute_result",
          "data": {
            "text/html": [
              "<div>\n",
              "<style scoped>\n",
              "    .dataframe tbody tr th:only-of-type {\n",
              "        vertical-align: middle;\n",
              "    }\n",
              "\n",
              "    .dataframe tbody tr th {\n",
              "        vertical-align: top;\n",
              "    }\n",
              "\n",
              "    .dataframe thead th {\n",
              "        text-align: right;\n",
              "    }\n",
              "</style>\n",
              "<table border=\"1\" class=\"dataframe\">\n",
              "  <thead>\n",
              "    <tr style=\"text-align: right;\">\n",
              "      <th></th>\n",
              "      <th>scaled_amount</th>\n",
              "      <th>scaled_time</th>\n",
              "      <th>V1</th>\n",
              "      <th>V2</th>\n",
              "      <th>V3</th>\n",
              "      <th>V4</th>\n",
              "      <th>V5</th>\n",
              "      <th>V6</th>\n",
              "      <th>V7</th>\n",
              "      <th>V8</th>\n",
              "      <th>V9</th>\n",
              "      <th>V10</th>\n",
              "      <th>V11</th>\n",
              "      <th>V12</th>\n",
              "      <th>V13</th>\n",
              "      <th>V14</th>\n",
              "      <th>V15</th>\n",
              "      <th>V16</th>\n",
              "      <th>V17</th>\n",
              "      <th>V18</th>\n",
              "      <th>V19</th>\n",
              "      <th>V20</th>\n",
              "      <th>V21</th>\n",
              "      <th>V22</th>\n",
              "      <th>V23</th>\n",
              "      <th>V24</th>\n",
              "      <th>V25</th>\n",
              "      <th>V26</th>\n",
              "      <th>V27</th>\n",
              "      <th>V28</th>\n",
              "      <th>Class</th>\n",
              "    </tr>\n",
              "  </thead>\n",
              "  <tbody>\n",
              "    <tr>\n",
              "      <th>0</th>\n",
              "      <td>1.783274</td>\n",
              "      <td>-0.994983</td>\n",
              "      <td>-1.359807</td>\n",
              "      <td>-0.072781</td>\n",
              "      <td>2.536347</td>\n",
              "      <td>1.378155</td>\n",
              "      <td>-0.338321</td>\n",
              "      <td>0.462388</td>\n",
              "      <td>0.239599</td>\n",
              "      <td>0.098698</td>\n",
              "      <td>0.363787</td>\n",
              "      <td>0.090794</td>\n",
              "      <td>-0.551600</td>\n",
              "      <td>-0.617801</td>\n",
              "      <td>-0.991390</td>\n",
              "      <td>-0.311169</td>\n",
              "      <td>1.468177</td>\n",
              "      <td>-0.470401</td>\n",
              "      <td>0.207971</td>\n",
              "      <td>0.025791</td>\n",
              "      <td>0.403993</td>\n",
              "      <td>0.251412</td>\n",
              "      <td>-0.018307</td>\n",
              "      <td>0.277838</td>\n",
              "      <td>-0.110474</td>\n",
              "      <td>0.066928</td>\n",
              "      <td>0.128539</td>\n",
              "      <td>-0.189115</td>\n",
              "      <td>0.133558</td>\n",
              "      <td>-0.021053</td>\n",
              "      <td>0</td>\n",
              "    </tr>\n",
              "    <tr>\n",
              "      <th>1</th>\n",
              "      <td>-0.269825</td>\n",
              "      <td>-0.994983</td>\n",
              "      <td>1.191857</td>\n",
              "      <td>0.266151</td>\n",
              "      <td>0.166480</td>\n",
              "      <td>0.448154</td>\n",
              "      <td>0.060018</td>\n",
              "      <td>-0.082361</td>\n",
              "      <td>-0.078803</td>\n",
              "      <td>0.085102</td>\n",
              "      <td>-0.255425</td>\n",
              "      <td>-0.166974</td>\n",
              "      <td>1.612727</td>\n",
              "      <td>1.065235</td>\n",
              "      <td>0.489095</td>\n",
              "      <td>-0.143772</td>\n",
              "      <td>0.635558</td>\n",
              "      <td>0.463917</td>\n",
              "      <td>-0.114805</td>\n",
              "      <td>-0.183361</td>\n",
              "      <td>-0.145783</td>\n",
              "      <td>-0.069083</td>\n",
              "      <td>-0.225775</td>\n",
              "      <td>-0.638672</td>\n",
              "      <td>0.101288</td>\n",
              "      <td>-0.339846</td>\n",
              "      <td>0.167170</td>\n",
              "      <td>0.125895</td>\n",
              "      <td>-0.008983</td>\n",
              "      <td>0.014724</td>\n",
              "      <td>0</td>\n",
              "    </tr>\n",
              "    <tr>\n",
              "      <th>2</th>\n",
              "      <td>4.983721</td>\n",
              "      <td>-0.994972</td>\n",
              "      <td>-1.358354</td>\n",
              "      <td>-1.340163</td>\n",
              "      <td>1.773209</td>\n",
              "      <td>0.379780</td>\n",
              "      <td>-0.503198</td>\n",
              "      <td>1.800499</td>\n",
              "      <td>0.791461</td>\n",
              "      <td>0.247676</td>\n",
              "      <td>-1.514654</td>\n",
              "      <td>0.207643</td>\n",
              "      <td>0.624501</td>\n",
              "      <td>0.066084</td>\n",
              "      <td>0.717293</td>\n",
              "      <td>-0.165946</td>\n",
              "      <td>2.345865</td>\n",
              "      <td>-2.890083</td>\n",
              "      <td>1.109969</td>\n",
              "      <td>-0.121359</td>\n",
              "      <td>-2.261857</td>\n",
              "      <td>0.524980</td>\n",
              "      <td>0.247998</td>\n",
              "      <td>0.771679</td>\n",
              "      <td>0.909412</td>\n",
              "      <td>-0.689281</td>\n",
              "      <td>-0.327642</td>\n",
              "      <td>-0.139097</td>\n",
              "      <td>-0.055353</td>\n",
              "      <td>-0.059752</td>\n",
              "      <td>0</td>\n",
              "    </tr>\n",
              "    <tr>\n",
              "      <th>3</th>\n",
              "      <td>1.418291</td>\n",
              "      <td>-0.994972</td>\n",
              "      <td>-0.966272</td>\n",
              "      <td>-0.185226</td>\n",
              "      <td>1.792993</td>\n",
              "      <td>-0.863291</td>\n",
              "      <td>-0.010309</td>\n",
              "      <td>1.247203</td>\n",
              "      <td>0.237609</td>\n",
              "      <td>0.377436</td>\n",
              "      <td>-1.387024</td>\n",
              "      <td>-0.054952</td>\n",
              "      <td>-0.226487</td>\n",
              "      <td>0.178228</td>\n",
              "      <td>0.507757</td>\n",
              "      <td>-0.287924</td>\n",
              "      <td>-0.631418</td>\n",
              "      <td>-1.059647</td>\n",
              "      <td>-0.684093</td>\n",
              "      <td>1.965775</td>\n",
              "      <td>-1.232622</td>\n",
              "      <td>-0.208038</td>\n",
              "      <td>-0.108300</td>\n",
              "      <td>0.005274</td>\n",
              "      <td>-0.190321</td>\n",
              "      <td>-1.175575</td>\n",
              "      <td>0.647376</td>\n",
              "      <td>-0.221929</td>\n",
              "      <td>0.062723</td>\n",
              "      <td>0.061458</td>\n",
              "      <td>0</td>\n",
              "    </tr>\n",
              "    <tr>\n",
              "      <th>4</th>\n",
              "      <td>0.670579</td>\n",
              "      <td>-0.994960</td>\n",
              "      <td>-1.158233</td>\n",
              "      <td>0.877737</td>\n",
              "      <td>1.548718</td>\n",
              "      <td>0.403034</td>\n",
              "      <td>-0.407193</td>\n",
              "      <td>0.095921</td>\n",
              "      <td>0.592941</td>\n",
              "      <td>-0.270533</td>\n",
              "      <td>0.817739</td>\n",
              "      <td>0.753074</td>\n",
              "      <td>-0.822843</td>\n",
              "      <td>0.538196</td>\n",
              "      <td>1.345852</td>\n",
              "      <td>-1.119670</td>\n",
              "      <td>0.175121</td>\n",
              "      <td>-0.451449</td>\n",
              "      <td>-0.237033</td>\n",
              "      <td>-0.038195</td>\n",
              "      <td>0.803487</td>\n",
              "      <td>0.408542</td>\n",
              "      <td>-0.009431</td>\n",
              "      <td>0.798278</td>\n",
              "      <td>-0.137458</td>\n",
              "      <td>0.141267</td>\n",
              "      <td>-0.206010</td>\n",
              "      <td>0.502292</td>\n",
              "      <td>0.219422</td>\n",
              "      <td>0.215153</td>\n",
              "      <td>0</td>\n",
              "    </tr>\n",
              "  </tbody>\n",
              "</table>\n",
              "</div>"
            ],
            "text/plain": [
              "   scaled_amount  scaled_time        V1  ...       V27       V28  Class\n",
              "0       1.783274    -0.994983 -1.359807  ...  0.133558 -0.021053      0\n",
              "1      -0.269825    -0.994983  1.191857  ... -0.008983  0.014724      0\n",
              "2       4.983721    -0.994972 -1.358354  ... -0.055353 -0.059752      0\n",
              "3       1.418291    -0.994972 -0.966272  ...  0.062723  0.061458      0\n",
              "4       0.670579    -0.994960 -1.158233  ...  0.219422  0.215153      0\n",
              "\n",
              "[5 rows x 31 columns]"
            ]
          },
          "metadata": {
            "tags": []
          },
          "execution_count": 24
        }
      ]
    },
    {
      "cell_type": "markdown",
      "metadata": {
        "id": "oqEALg1YRFcC"
      },
      "source": [
        "as we know that we are dealing with **imbalanced data**. there are two types of dealing it\n",
        "# 1) under sampling\n",
        "# 2) oversampling\n",
        "\n",
        "***undersampling:-*** Randomly remove samples from the majority class, with or without replacement. This is one of the earliest techniques used to alleviate imbalance in the dataset, however, it may increase the variance of the classifier and may potentially discard useful or important samples\n",
        "\n",
        "**oversampling:-**Random Oversampling involves supplementing the training data with multiple copies of some of the minority classes\n",
        "\n",
        "\n",
        "There are a number of methods available to oversample a dataset used in a typical classification problem (using a classification algorithm to classify a set of images, given a labelled training set of images). The most common technique is known as SMOTE: Synthetic Minority Over-sampling Technique.\n",
        "\n",
        "When upsampling using SMOTE(Synthetic Minority Over-sampling Technique.) I don’t create duplicate observations. However, because the SMOTE algorithm uses the nearest neighbors of observations to create synthetic data"
      ]
    },
    {
      "cell_type": "markdown",
      "metadata": {
        "id": "UIaho0dsTLLL"
      },
      "source": [
        "# under sampling"
      ]
    },
    {
      "cell_type": "code",
      "metadata": {
        "colab": {
          "base_uri": "https://localhost:8080/",
          "height": 224
        },
        "id": "lczCodhlVjnm",
        "outputId": "d5f9c775-0d4b-4dc0-f5e9-612159dc9d77"
      },
      "source": [
        "df = df.sample(frac=1)\n",
        "\n",
        "# amount of fraud classes 492 rows.\n",
        "fraud_df = df.loc[df['Class'] == 1]\n",
        "non_fraud_df = df.loc[df['Class'] == 0][:492]\n",
        "\n",
        "normal_distributed_df = pd.concat([fraud_df, non_fraud_df])\n",
        "\n",
        "# Shuffle dataframe rows\n",
        "new_df = normal_distributed_df.sample(frac=1, random_state=42)\n",
        "\n",
        "new_df.head()"
      ],
      "execution_count": 25,
      "outputs": [
        {
          "output_type": "execute_result",
          "data": {
            "text/html": [
              "<div>\n",
              "<style scoped>\n",
              "    .dataframe tbody tr th:only-of-type {\n",
              "        vertical-align: middle;\n",
              "    }\n",
              "\n",
              "    .dataframe tbody tr th {\n",
              "        vertical-align: top;\n",
              "    }\n",
              "\n",
              "    .dataframe thead th {\n",
              "        text-align: right;\n",
              "    }\n",
              "</style>\n",
              "<table border=\"1\" class=\"dataframe\">\n",
              "  <thead>\n",
              "    <tr style=\"text-align: right;\">\n",
              "      <th></th>\n",
              "      <th>scaled_amount</th>\n",
              "      <th>scaled_time</th>\n",
              "      <th>V1</th>\n",
              "      <th>V2</th>\n",
              "      <th>V3</th>\n",
              "      <th>V4</th>\n",
              "      <th>V5</th>\n",
              "      <th>V6</th>\n",
              "      <th>V7</th>\n",
              "      <th>V8</th>\n",
              "      <th>V9</th>\n",
              "      <th>V10</th>\n",
              "      <th>V11</th>\n",
              "      <th>V12</th>\n",
              "      <th>V13</th>\n",
              "      <th>V14</th>\n",
              "      <th>V15</th>\n",
              "      <th>V16</th>\n",
              "      <th>V17</th>\n",
              "      <th>V18</th>\n",
              "      <th>V19</th>\n",
              "      <th>V20</th>\n",
              "      <th>V21</th>\n",
              "      <th>V22</th>\n",
              "      <th>V23</th>\n",
              "      <th>V24</th>\n",
              "      <th>V25</th>\n",
              "      <th>V26</th>\n",
              "      <th>V27</th>\n",
              "      <th>V28</th>\n",
              "      <th>Class</th>\n",
              "    </tr>\n",
              "  </thead>\n",
              "  <tbody>\n",
              "    <tr>\n",
              "      <th>226827</th>\n",
              "      <td>-0.097813</td>\n",
              "      <td>0.706329</td>\n",
              "      <td>2.373885</td>\n",
              "      <td>-1.353682</td>\n",
              "      <td>-1.884191</td>\n",
              "      <td>-2.001182</td>\n",
              "      <td>-0.415872</td>\n",
              "      <td>-0.092444</td>\n",
              "      <td>-0.985310</td>\n",
              "      <td>-0.068764</td>\n",
              "      <td>-1.591246</td>\n",
              "      <td>1.889835</td>\n",
              "      <td>-0.309704</td>\n",
              "      <td>-1.294996</td>\n",
              "      <td>-0.683220</td>\n",
              "      <td>0.253716</td>\n",
              "      <td>-0.266248</td>\n",
              "      <td>-0.040673</td>\n",
              "      <td>-0.168939</td>\n",
              "      <td>1.064295</td>\n",
              "      <td>0.358328</td>\n",
              "      <td>-0.446595</td>\n",
              "      <td>0.034831</td>\n",
              "      <td>0.460737</td>\n",
              "      <td>-0.019708</td>\n",
              "      <td>-0.316435</td>\n",
              "      <td>0.175262</td>\n",
              "      <td>0.084424</td>\n",
              "      <td>-0.031735</td>\n",
              "      <td>-0.076978</td>\n",
              "      <td>0</td>\n",
              "    </tr>\n",
              "    <tr>\n",
              "      <th>61787</th>\n",
              "      <td>4.722979</td>\n",
              "      <td>-0.407747</td>\n",
              "      <td>-1.554216</td>\n",
              "      <td>1.694229</td>\n",
              "      <td>-0.903334</td>\n",
              "      <td>2.425436</td>\n",
              "      <td>-2.899787</td>\n",
              "      <td>0.133028</td>\n",
              "      <td>-0.286226</td>\n",
              "      <td>0.555945</td>\n",
              "      <td>-1.394918</td>\n",
              "      <td>-2.892612</td>\n",
              "      <td>1.962236</td>\n",
              "      <td>-2.385263</td>\n",
              "      <td>0.458337</td>\n",
              "      <td>-3.724543</td>\n",
              "      <td>1.843978</td>\n",
              "      <td>-2.013924</td>\n",
              "      <td>-2.815600</td>\n",
              "      <td>-1.092290</td>\n",
              "      <td>0.139687</td>\n",
              "      <td>-0.032334</td>\n",
              "      <td>0.493436</td>\n",
              "      <td>0.733393</td>\n",
              "      <td>0.202350</td>\n",
              "      <td>0.492054</td>\n",
              "      <td>-0.183791</td>\n",
              "      <td>-0.199917</td>\n",
              "      <td>0.395201</td>\n",
              "      <td>0.027693</td>\n",
              "      <td>1</td>\n",
              "    </tr>\n",
              "    <tr>\n",
              "      <th>210176</th>\n",
              "      <td>3.602320</td>\n",
              "      <td>0.624749</td>\n",
              "      <td>1.682710</td>\n",
              "      <td>-1.622179</td>\n",
              "      <td>-1.933969</td>\n",
              "      <td>-0.872610</td>\n",
              "      <td>-0.581482</td>\n",
              "      <td>-0.767186</td>\n",
              "      <td>0.141087</td>\n",
              "      <td>-0.336889</td>\n",
              "      <td>-0.751669</td>\n",
              "      <td>0.874152</td>\n",
              "      <td>0.273066</td>\n",
              "      <td>0.385033</td>\n",
              "      <td>-0.063616</td>\n",
              "      <td>0.507833</td>\n",
              "      <td>-0.799170</td>\n",
              "      <td>-1.398049</td>\n",
              "      <td>-0.249326</td>\n",
              "      <td>1.092237</td>\n",
              "      <td>-0.004843</td>\n",
              "      <td>-0.035588</td>\n",
              "      <td>-0.341682</td>\n",
              "      <td>-1.039921</td>\n",
              "      <td>-0.003685</td>\n",
              "      <td>-0.457877</td>\n",
              "      <td>-0.378915</td>\n",
              "      <td>1.121946</td>\n",
              "      <td>-0.177017</td>\n",
              "      <td>-0.044143</td>\n",
              "      <td>0</td>\n",
              "    </tr>\n",
              "    <tr>\n",
              "      <th>77348</th>\n",
              "      <td>-0.307273</td>\n",
              "      <td>-0.325251</td>\n",
              "      <td>-1.271244</td>\n",
              "      <td>2.462675</td>\n",
              "      <td>-2.851395</td>\n",
              "      <td>2.324480</td>\n",
              "      <td>-1.372245</td>\n",
              "      <td>-0.948196</td>\n",
              "      <td>-3.065234</td>\n",
              "      <td>1.166927</td>\n",
              "      <td>-2.268771</td>\n",
              "      <td>-4.881143</td>\n",
              "      <td>2.255147</td>\n",
              "      <td>-4.686387</td>\n",
              "      <td>0.652375</td>\n",
              "      <td>-6.174288</td>\n",
              "      <td>0.594380</td>\n",
              "      <td>-4.849692</td>\n",
              "      <td>-6.536521</td>\n",
              "      <td>-3.119094</td>\n",
              "      <td>1.715494</td>\n",
              "      <td>0.560478</td>\n",
              "      <td>0.652941</td>\n",
              "      <td>0.081931</td>\n",
              "      <td>-0.221348</td>\n",
              "      <td>-0.523582</td>\n",
              "      <td>0.224228</td>\n",
              "      <td>0.756335</td>\n",
              "      <td>0.632800</td>\n",
              "      <td>0.250187</td>\n",
              "      <td>1</td>\n",
              "    </tr>\n",
              "    <tr>\n",
              "      <th>27627</th>\n",
              "      <td>-0.042479</td>\n",
              "      <td>-0.588094</td>\n",
              "      <td>0.333499</td>\n",
              "      <td>1.699873</td>\n",
              "      <td>-2.596561</td>\n",
              "      <td>3.643945</td>\n",
              "      <td>-0.585068</td>\n",
              "      <td>-0.654659</td>\n",
              "      <td>-2.275789</td>\n",
              "      <td>0.675229</td>\n",
              "      <td>-2.042416</td>\n",
              "      <td>-2.834871</td>\n",
              "      <td>2.802005</td>\n",
              "      <td>-4.392732</td>\n",
              "      <td>-1.369671</td>\n",
              "      <td>-5.327287</td>\n",
              "      <td>0.163159</td>\n",
              "      <td>-1.359389</td>\n",
              "      <td>-5.095183</td>\n",
              "      <td>-0.338013</td>\n",
              "      <td>-0.124138</td>\n",
              "      <td>0.329342</td>\n",
              "      <td>0.469212</td>\n",
              "      <td>-0.144363</td>\n",
              "      <td>-0.317981</td>\n",
              "      <td>-0.769644</td>\n",
              "      <td>0.807855</td>\n",
              "      <td>0.228164</td>\n",
              "      <td>0.551002</td>\n",
              "      <td>0.305473</td>\n",
              "      <td>1</td>\n",
              "    </tr>\n",
              "  </tbody>\n",
              "</table>\n",
              "</div>"
            ],
            "text/plain": [
              "        scaled_amount  scaled_time        V1  ...       V27       V28  Class\n",
              "226827      -0.097813     0.706329  2.373885  ... -0.031735 -0.076978      0\n",
              "61787        4.722979    -0.407747 -1.554216  ...  0.395201  0.027693      1\n",
              "210176       3.602320     0.624749  1.682710  ... -0.177017 -0.044143      0\n",
              "77348       -0.307273    -0.325251 -1.271244  ...  0.632800  0.250187      1\n",
              "27627       -0.042479    -0.588094  0.333499  ...  0.551002  0.305473      1\n",
              "\n",
              "[5 rows x 31 columns]"
            ]
          },
          "metadata": {
            "tags": []
          },
          "execution_count": 25
        }
      ]
    },
    {
      "cell_type": "code",
      "metadata": {
        "colab": {
          "base_uri": "https://localhost:8080/",
          "height": 418
        },
        "id": "KxKHxjgLaz2q",
        "outputId": "83eb8e0b-39f8-4d67-d621-d8ed083ae21d"
      },
      "source": [
        "print('Distribution of the Classes in the subsample dataset')\n",
        "print(new_df['Class'].value_counts()/len(new_df))\n",
        "\n",
        "\n",
        "\n",
        "\n",
        "sns.countplot('Class', data=new_df)\n",
        "plt.title('Equally Distributed Classes', fontsize=14)\n",
        "plt.show()"
      ],
      "execution_count": 26,
      "outputs": [
        {
          "output_type": "stream",
          "text": [
            "Distribution of the Classes in the subsample dataset\n",
            "1    0.5\n",
            "0    0.5\n",
            "Name: Class, dtype: float64\n"
          ],
          "name": "stdout"
        },
        {
          "output_type": "stream",
          "text": [
            "/usr/local/lib/python3.6/dist-packages/seaborn/_decorators.py:43: FutureWarning: Pass the following variable as a keyword arg: x. From version 0.12, the only valid positional argument will be `data`, and passing other arguments without an explicit keyword will result in an error or misinterpretation.\n",
            "  FutureWarning\n"
          ],
          "name": "stderr"
        },
        {
          "output_type": "display_data",
          "data": {
            "image/png": "[encoded data removed]",
            "text/plain": [
              "<Figure size 432x288 with 1 Axes>"
            ]
          },
          "metadata": {
            "tags": [],
            "needs_background": "light"
          }
        }
      ]
    },
    {
      "cell_type": "code",
      "metadata": {
        "colab": {
          "base_uri": "https://localhost:8080/"
        },
        "id": "PM782xo9eiQL",
        "outputId": "c4d91794-f1f0-47e6-e266-f3fb2a17d2b1"
      },
      "source": [
        "new_df['Class'].value_counts()"
      ],
      "execution_count": 27,
      "outputs": [
        {
          "output_type": "execute_result",
          "data": {
            "text/plain": [
              "1    492\n",
              "0    492\n",
              "Name: Class, dtype: int64"
            ]
          },
          "metadata": {
            "tags": []
          },
          "execution_count": 27
        }
      ]
    },
    {
      "cell_type": "markdown",
      "metadata": {
        "id": "QzNzF37CTYLV"
      },
      "source": [
        "previously we have 284315 non fraud cases or class 1 , but now we have 492.. now we have well balanced data"
      ]
    },
    {
      "cell_type": "markdown",
      "metadata": {
        "id": "5cB2IddKUYP8"
      },
      "source": [
        "A **correlation matrix** is a table showing correlation coefficients between variables. Each cell in the table shows the correlation between two variables"
      ]
    },
    {
      "cell_type": "code",
      "metadata": {
        "colab": {
          "base_uri": "https://localhost:8080/",
          "height": 962
        },
        "id": "17-OoBblgYP5",
        "outputId": "41decd9f-814b-48e6-c653-7ad931663866"
      },
      "source": [
        "f, (ax1, ax2) = plt.subplots(2, 1, figsize=(15,15))\n",
        "\n",
        "# Entire DataFrame\n",
        "corr = df.corr()\n",
        "sns.heatmap(corr, cmap='coolwarm_r', annot_kws={'size':20}, ax=ax1)\n",
        "ax1.set_title(\"Imbalanced Correlation Matrix \\n (don't use for reference)\", fontsize=14)\n",
        "\n",
        "\n",
        "sub_sample_corr = new_df.corr()\n",
        "sns.heatmap(sub_sample_corr, cmap='coolwarm_r', annot_kws={'size':20}, ax=ax2)\n",
        "ax2.set_title('SubSample Correlation Matrix \\n (use for reference)', fontsize=14)\n",
        "plt.show()\n"
      ],
      "execution_count": 28,
      "outputs": [
        {
          "output_type": "display_data",
          "data": {
            "image/png": "[encoded data removed]",
            "text/plain": [
              "<Figure size 1080x1080 with 4 Axes>"
            ]
          },
          "metadata": {
            "tags": [],
            "needs_background": "light"
          }
        }
      ]
    },
    {
      "cell_type": "code",
      "metadata": {
        "id": "hJQKBeFH75ji"
      },
      "source": [
        "sub_sample_corr = new_df.corr()"
      ],
      "execution_count": 29,
      "outputs": []
    },
    {
      "cell_type": "markdown",
      "metadata": {
        "id": "gYxvz9sUUoy2"
      },
      "source": [
        "lets take the features which are highly correlated with target variable.here iam using 0.5 as threshold  "
      ]
    },
    {
      "cell_type": "code",
      "metadata": {
        "colab": {
          "base_uri": "https://localhost:8080/",
          "height": 286
        },
        "id": "LaCZs7qp9AYv",
        "outputId": "866733ce-cc67-4909-88e3-503ed542ba95"
      },
      "source": [
        "#negative correlations smaller than -0.5\n",
        "sub_sample_corr[sub_sample_corr.Class <-0.5]"
      ],
      "execution_count": 30,
      "outputs": [
        {
          "output_type": "execute_result",
          "data": {
            "text/html": [
              "<div>\n",
              "<style scoped>\n",
              "    .dataframe tbody tr th:only-of-type {\n",
              "        vertical-align: middle;\n",
              "    }\n",
              "\n",
              "    .dataframe tbody tr th {\n",
              "        vertical-align: top;\n",
              "    }\n",
              "\n",
              "    .dataframe thead th {\n",
              "        text-align: right;\n",
              "    }\n",
              "</style>\n",
              "<table border=\"1\" class=\"dataframe\">\n",
              "  <thead>\n",
              "    <tr style=\"text-align: right;\">\n",
              "      <th></th>\n",
              "      <th>scaled_amount</th>\n",
              "      <th>scaled_time</th>\n",
              "      <th>V1</th>\n",
              "      <th>V2</th>\n",
              "      <th>V3</th>\n",
              "      <th>V4</th>\n",
              "      <th>V5</th>\n",
              "      <th>V6</th>\n",
              "      <th>V7</th>\n",
              "      <th>V8</th>\n",
              "      <th>V9</th>\n",
              "      <th>V10</th>\n",
              "      <th>V11</th>\n",
              "      <th>V12</th>\n",
              "      <th>V13</th>\n",
              "      <th>V14</th>\n",
              "      <th>V15</th>\n",
              "      <th>V16</th>\n",
              "      <th>V17</th>\n",
              "      <th>V18</th>\n",
              "      <th>V19</th>\n",
              "      <th>V20</th>\n",
              "      <th>V21</th>\n",
              "      <th>V22</th>\n",
              "      <th>V23</th>\n",
              "      <th>V24</th>\n",
              "      <th>V25</th>\n",
              "      <th>V26</th>\n",
              "      <th>V27</th>\n",
              "      <th>V28</th>\n",
              "      <th>Class</th>\n",
              "    </tr>\n",
              "  </thead>\n",
              "  <tbody>\n",
              "    <tr>\n",
              "      <th>V3</th>\n",
              "      <td>-0.013749</td>\n",
              "      <td>0.163724</td>\n",
              "      <td>0.884322</td>\n",
              "      <td>-0.870874</td>\n",
              "      <td>1.000000</td>\n",
              "      <td>-0.768916</td>\n",
              "      <td>0.860608</td>\n",
              "      <td>0.467880</td>\n",
              "      <td>0.890735</td>\n",
              "      <td>-0.170109</td>\n",
              "      <td>0.774648</td>\n",
              "      <td>0.860245</td>\n",
              "      <td>-0.716642</td>\n",
              "      <td>0.760978</td>\n",
              "      <td>-0.073133</td>\n",
              "      <td>0.656058</td>\n",
              "      <td>0.166313</td>\n",
              "      <td>0.730682</td>\n",
              "      <td>0.739915</td>\n",
              "      <td>0.706862</td>\n",
              "      <td>-0.328473</td>\n",
              "      <td>-0.371685</td>\n",
              "      <td>0.025525</td>\n",
              "      <td>-0.076860</td>\n",
              "      <td>-0.021774</td>\n",
              "      <td>0.009019</td>\n",
              "      <td>-0.066220</td>\n",
              "      <td>-0.017502</td>\n",
              "      <td>0.102221</td>\n",
              "      <td>0.134141</td>\n",
              "      <td>-0.567056</td>\n",
              "    </tr>\n",
              "    <tr>\n",
              "      <th>V9</th>\n",
              "      <td>0.029009</td>\n",
              "      <td>0.181950</td>\n",
              "      <td>0.682793</td>\n",
              "      <td>-0.722937</td>\n",
              "      <td>0.774648</td>\n",
              "      <td>-0.795519</td>\n",
              "      <td>0.667143</td>\n",
              "      <td>0.370689</td>\n",
              "      <td>0.771883</td>\n",
              "      <td>-0.079448</td>\n",
              "      <td>1.000000</td>\n",
              "      <td>0.850607</td>\n",
              "      <td>-0.710122</td>\n",
              "      <td>0.771937</td>\n",
              "      <td>-0.049231</td>\n",
              "      <td>0.689657</td>\n",
              "      <td>0.151295</td>\n",
              "      <td>0.737766</td>\n",
              "      <td>0.767210</td>\n",
              "      <td>0.714758</td>\n",
              "      <td>-0.340142</td>\n",
              "      <td>-0.419874</td>\n",
              "      <td>0.160936</td>\n",
              "      <td>-0.251996</td>\n",
              "      <td>-0.052897</td>\n",
              "      <td>0.011307</td>\n",
              "      <td>0.005887</td>\n",
              "      <td>-0.125795</td>\n",
              "      <td>0.129432</td>\n",
              "      <td>0.146433</td>\n",
              "      <td>-0.565662</td>\n",
              "    </tr>\n",
              "    <tr>\n",
              "      <th>V10</th>\n",
              "      <td>0.013741</td>\n",
              "      <td>0.233150</td>\n",
              "      <td>0.756938</td>\n",
              "      <td>-0.790448</td>\n",
              "      <td>0.860245</td>\n",
              "      <td>-0.788494</td>\n",
              "      <td>0.769880</td>\n",
              "      <td>0.428135</td>\n",
              "      <td>0.875919</td>\n",
              "      <td>-0.055034</td>\n",
              "      <td>0.850607</td>\n",
              "      <td>1.000000</td>\n",
              "      <td>-0.803607</td>\n",
              "      <td>0.882727</td>\n",
              "      <td>-0.055396</td>\n",
              "      <td>0.760187</td>\n",
              "      <td>0.175465</td>\n",
              "      <td>0.858577</td>\n",
              "      <td>0.857145</td>\n",
              "      <td>0.805519</td>\n",
              "      <td>-0.422445</td>\n",
              "      <td>-0.410806</td>\n",
              "      <td>0.083465</td>\n",
              "      <td>-0.223129</td>\n",
              "      <td>-0.047213</td>\n",
              "      <td>-0.004851</td>\n",
              "      <td>0.023435</td>\n",
              "      <td>-0.031440</td>\n",
              "      <td>0.154919</td>\n",
              "      <td>0.151019</td>\n",
              "      <td>-0.623109</td>\n",
              "    </tr>\n",
              "    <tr>\n",
              "      <th>V12</th>\n",
              "      <td>0.023477</td>\n",
              "      <td>0.279096</td>\n",
              "      <td>0.605478</td>\n",
              "      <td>-0.680986</td>\n",
              "      <td>0.760978</td>\n",
              "      <td>-0.836117</td>\n",
              "      <td>0.627300</td>\n",
              "      <td>0.509864</td>\n",
              "      <td>0.724838</td>\n",
              "      <td>-0.168662</td>\n",
              "      <td>0.771937</td>\n",
              "      <td>0.882727</td>\n",
              "      <td>-0.897083</td>\n",
              "      <td>1.000000</td>\n",
              "      <td>-0.100806</td>\n",
              "      <td>0.879386</td>\n",
              "      <td>0.107996</td>\n",
              "      <td>0.900446</td>\n",
              "      <td>0.876793</td>\n",
              "      <td>0.800782</td>\n",
              "      <td>-0.464485</td>\n",
              "      <td>-0.243961</td>\n",
              "      <td>-0.075743</td>\n",
              "      <td>-0.119666</td>\n",
              "      <td>0.010765</td>\n",
              "      <td>0.042149</td>\n",
              "      <td>0.040981</td>\n",
              "      <td>-0.108691</td>\n",
              "      <td>-0.028263</td>\n",
              "      <td>0.009168</td>\n",
              "      <td>-0.680777</td>\n",
              "    </tr>\n",
              "    <tr>\n",
              "      <th>V14</th>\n",
              "      <td>0.040035</td>\n",
              "      <td>0.197156</td>\n",
              "      <td>0.457127</td>\n",
              "      <td>-0.581341</td>\n",
              "      <td>0.656058</td>\n",
              "      <td>-0.794270</td>\n",
              "      <td>0.439260</td>\n",
              "      <td>0.537475</td>\n",
              "      <td>0.550118</td>\n",
              "      <td>-0.189509</td>\n",
              "      <td>0.689657</td>\n",
              "      <td>0.760187</td>\n",
              "      <td>-0.890735</td>\n",
              "      <td>0.879386</td>\n",
              "      <td>-0.035574</td>\n",
              "      <td>1.000000</td>\n",
              "      <td>0.013687</td>\n",
              "      <td>0.781039</td>\n",
              "      <td>0.730544</td>\n",
              "      <td>0.625223</td>\n",
              "      <td>-0.374391</td>\n",
              "      <td>-0.149357</td>\n",
              "      <td>-0.226640</td>\n",
              "      <td>0.051428</td>\n",
              "      <td>0.024354</td>\n",
              "      <td>0.134813</td>\n",
              "      <td>-0.064338</td>\n",
              "      <td>-0.171067</td>\n",
              "      <td>-0.204937</td>\n",
              "      <td>-0.119742</td>\n",
              "      <td>-0.752297</td>\n",
              "    </tr>\n",
              "    <tr>\n",
              "      <th>V16</th>\n",
              "      <td>-0.022377</td>\n",
              "      <td>0.254227</td>\n",
              "      <td>0.646089</td>\n",
              "      <td>-0.644857</td>\n",
              "      <td>0.730682</td>\n",
              "      <td>-0.729415</td>\n",
              "      <td>0.700984</td>\n",
              "      <td>0.436367</td>\n",
              "      <td>0.751378</td>\n",
              "      <td>-0.177975</td>\n",
              "      <td>0.737766</td>\n",
              "      <td>0.858577</td>\n",
              "      <td>-0.808786</td>\n",
              "      <td>0.900446</td>\n",
              "      <td>-0.117139</td>\n",
              "      <td>0.781039</td>\n",
              "      <td>0.021997</td>\n",
              "      <td>1.000000</td>\n",
              "      <td>0.953528</td>\n",
              "      <td>0.911192</td>\n",
              "      <td>-0.630676</td>\n",
              "      <td>-0.209922</td>\n",
              "      <td>-0.152489</td>\n",
              "      <td>-0.112657</td>\n",
              "      <td>-0.000222</td>\n",
              "      <td>-0.049962</td>\n",
              "      <td>0.074192</td>\n",
              "      <td>-0.065669</td>\n",
              "      <td>-0.025503</td>\n",
              "      <td>0.021465</td>\n",
              "      <td>-0.599702</td>\n",
              "    </tr>\n",
              "    <tr>\n",
              "      <th>V17</th>\n",
              "      <td>-0.023859</td>\n",
              "      <td>0.249751</td>\n",
              "      <td>0.684970</td>\n",
              "      <td>-0.655037</td>\n",
              "      <td>0.739915</td>\n",
              "      <td>-0.706428</td>\n",
              "      <td>0.755186</td>\n",
              "      <td>0.427136</td>\n",
              "      <td>0.773115</td>\n",
              "      <td>-0.222660</td>\n",
              "      <td>0.767210</td>\n",
              "      <td>0.857145</td>\n",
              "      <td>-0.772126</td>\n",
              "      <td>0.876793</td>\n",
              "      <td>-0.134368</td>\n",
              "      <td>0.730544</td>\n",
              "      <td>0.051954</td>\n",
              "      <td>0.953528</td>\n",
              "      <td>1.000000</td>\n",
              "      <td>0.941806</td>\n",
              "      <td>-0.601086</td>\n",
              "      <td>-0.232698</td>\n",
              "      <td>-0.096817</td>\n",
              "      <td>-0.131338</td>\n",
              "      <td>0.017949</td>\n",
              "      <td>-0.080901</td>\n",
              "      <td>0.048288</td>\n",
              "      <td>-0.043639</td>\n",
              "      <td>0.000303</td>\n",
              "      <td>0.060547</td>\n",
              "      <td>-0.557260</td>\n",
              "    </tr>\n",
              "  </tbody>\n",
              "</table>\n",
              "</div>"
            ],
            "text/plain": [
              "     scaled_amount  scaled_time        V1  ...       V27       V28     Class\n",
              "V3       -0.013749     0.163724  0.884322  ...  0.102221  0.134141 -0.567056\n",
              "V9        0.029009     0.181950  0.682793  ...  0.129432  0.146433 -0.565662\n",
              "V10       0.013741     0.233150  0.756938  ...  0.154919  0.151019 -0.623109\n",
              "V12       0.023477     0.279096  0.605478  ... -0.028263  0.009168 -0.680777\n",
              "V14       0.040035     0.197156  0.457127  ... -0.204937 -0.119742 -0.752297\n",
              "V16      -0.022377     0.254227  0.646089  ... -0.025503  0.021465 -0.599702\n",
              "V17      -0.023859     0.249751  0.684970  ...  0.000303  0.060547 -0.557260\n",
              "\n",
              "[7 rows x 31 columns]"
            ]
          },
          "metadata": {
            "tags": []
          },
          "execution_count": 30
        }
      ]
    },
    {
      "cell_type": "code",
      "metadata": {
        "colab": {
          "base_uri": "https://localhost:8080/",
          "height": 193
        },
        "id": "s9ZCyp_I9MuM",
        "outputId": "74c06a85-a643-4e30-f040-8f6e32d37602"
      },
      "source": [
        "#positive correlations greater than 0.5\n",
        "sub_sample_corr[sub_sample_corr.Class>0.5]"
      ],
      "execution_count": 31,
      "outputs": [
        {
          "output_type": "execute_result",
          "data": {
            "text/html": [
              "<div>\n",
              "<style scoped>\n",
              "    .dataframe tbody tr th:only-of-type {\n",
              "        vertical-align: middle;\n",
              "    }\n",
              "\n",
              "    .dataframe tbody tr th {\n",
              "        vertical-align: top;\n",
              "    }\n",
              "\n",
              "    .dataframe thead th {\n",
              "        text-align: right;\n",
              "    }\n",
              "</style>\n",
              "<table border=\"1\" class=\"dataframe\">\n",
              "  <thead>\n",
              "    <tr style=\"text-align: right;\">\n",
              "      <th></th>\n",
              "      <th>scaled_amount</th>\n",
              "      <th>scaled_time</th>\n",
              "      <th>V1</th>\n",
              "      <th>V2</th>\n",
              "      <th>V3</th>\n",
              "      <th>V4</th>\n",
              "      <th>V5</th>\n",
              "      <th>V6</th>\n",
              "      <th>V7</th>\n",
              "      <th>V8</th>\n",
              "      <th>V9</th>\n",
              "      <th>V10</th>\n",
              "      <th>V11</th>\n",
              "      <th>V12</th>\n",
              "      <th>V13</th>\n",
              "      <th>V14</th>\n",
              "      <th>V15</th>\n",
              "      <th>V16</th>\n",
              "      <th>V17</th>\n",
              "      <th>V18</th>\n",
              "      <th>V19</th>\n",
              "      <th>V20</th>\n",
              "      <th>V21</th>\n",
              "      <th>V22</th>\n",
              "      <th>V23</th>\n",
              "      <th>V24</th>\n",
              "      <th>V25</th>\n",
              "      <th>V26</th>\n",
              "      <th>V27</th>\n",
              "      <th>V28</th>\n",
              "      <th>Class</th>\n",
              "    </tr>\n",
              "  </thead>\n",
              "  <tbody>\n",
              "    <tr>\n",
              "      <th>V2</th>\n",
              "      <td>-0.210305</td>\n",
              "      <td>-0.248051</td>\n",
              "      <td>-0.821671</td>\n",
              "      <td>1.000000</td>\n",
              "      <td>-0.870874</td>\n",
              "      <td>0.690870</td>\n",
              "      <td>-0.810731</td>\n",
              "      <td>-0.283267</td>\n",
              "      <td>-0.865268</td>\n",
              "      <td>-0.022654</td>\n",
              "      <td>-0.722937</td>\n",
              "      <td>-0.790448</td>\n",
              "      <td>0.628780</td>\n",
              "      <td>-0.680986</td>\n",
              "      <td>0.048857</td>\n",
              "      <td>-0.581341</td>\n",
              "      <td>-0.175281</td>\n",
              "      <td>-0.644857</td>\n",
              "      <td>-0.655037</td>\n",
              "      <td>-0.627977</td>\n",
              "      <td>0.232526</td>\n",
              "      <td>0.338777</td>\n",
              "      <td>0.047260</td>\n",
              "      <td>-0.007326</td>\n",
              "      <td>0.133883</td>\n",
              "      <td>-0.002408</td>\n",
              "      <td>0.109863</td>\n",
              "      <td>-0.009460</td>\n",
              "      <td>-0.160119</td>\n",
              "      <td>-0.013049</td>\n",
              "      <td>0.500721</td>\n",
              "    </tr>\n",
              "    <tr>\n",
              "      <th>V4</th>\n",
              "      <td>-0.009533</td>\n",
              "      <td>-0.223582</td>\n",
              "      <td>-0.620169</td>\n",
              "      <td>0.690870</td>\n",
              "      <td>-0.768916</td>\n",
              "      <td>1.000000</td>\n",
              "      <td>-0.583929</td>\n",
              "      <td>-0.439509</td>\n",
              "      <td>-0.714287</td>\n",
              "      <td>0.108724</td>\n",
              "      <td>-0.795519</td>\n",
              "      <td>-0.788494</td>\n",
              "      <td>0.790663</td>\n",
              "      <td>-0.836117</td>\n",
              "      <td>0.084351</td>\n",
              "      <td>-0.794270</td>\n",
              "      <td>-0.152152</td>\n",
              "      <td>-0.729415</td>\n",
              "      <td>-0.706428</td>\n",
              "      <td>-0.645577</td>\n",
              "      <td>0.326061</td>\n",
              "      <td>0.316762</td>\n",
              "      <td>-0.021175</td>\n",
              "      <td>0.124954</td>\n",
              "      <td>0.026588</td>\n",
              "      <td>-0.086111</td>\n",
              "      <td>-0.029457</td>\n",
              "      <td>0.142904</td>\n",
              "      <td>-0.011735</td>\n",
              "      <td>-0.071010</td>\n",
              "      <td>0.703957</td>\n",
              "    </tr>\n",
              "    <tr>\n",
              "      <th>V11</th>\n",
              "      <td>-0.014762</td>\n",
              "      <td>-0.344004</td>\n",
              "      <td>-0.537783</td>\n",
              "      <td>0.628780</td>\n",
              "      <td>-0.716642</td>\n",
              "      <td>0.790663</td>\n",
              "      <td>-0.540345</td>\n",
              "      <td>-0.495168</td>\n",
              "      <td>-0.645566</td>\n",
              "      <td>0.174376</td>\n",
              "      <td>-0.710122</td>\n",
              "      <td>-0.803607</td>\n",
              "      <td>1.000000</td>\n",
              "      <td>-0.897083</td>\n",
              "      <td>0.077601</td>\n",
              "      <td>-0.890735</td>\n",
              "      <td>-0.083741</td>\n",
              "      <td>-0.808786</td>\n",
              "      <td>-0.772126</td>\n",
              "      <td>-0.681043</td>\n",
              "      <td>0.403206</td>\n",
              "      <td>0.208850</td>\n",
              "      <td>0.142618</td>\n",
              "      <td>0.023052</td>\n",
              "      <td>-0.035904</td>\n",
              "      <td>-0.125236</td>\n",
              "      <td>0.021350</td>\n",
              "      <td>0.145848</td>\n",
              "      <td>0.175792</td>\n",
              "      <td>0.026488</td>\n",
              "      <td>0.682564</td>\n",
              "    </tr>\n",
              "    <tr>\n",
              "      <th>Class</th>\n",
              "      <td>0.082546</td>\n",
              "      <td>-0.170280</td>\n",
              "      <td>-0.448220</td>\n",
              "      <td>0.500721</td>\n",
              "      <td>-0.567056</td>\n",
              "      <td>0.703957</td>\n",
              "      <td>-0.382044</td>\n",
              "      <td>-0.395128</td>\n",
              "      <td>-0.483554</td>\n",
              "      <td>0.061629</td>\n",
              "      <td>-0.565662</td>\n",
              "      <td>-0.623109</td>\n",
              "      <td>0.682564</td>\n",
              "      <td>-0.680777</td>\n",
              "      <td>-0.029832</td>\n",
              "      <td>-0.752297</td>\n",
              "      <td>-0.058320</td>\n",
              "      <td>-0.599702</td>\n",
              "      <td>-0.557260</td>\n",
              "      <td>-0.470723</td>\n",
              "      <td>0.274624</td>\n",
              "      <td>0.199211</td>\n",
              "      <td>0.130262</td>\n",
              "      <td>0.025318</td>\n",
              "      <td>-0.025218</td>\n",
              "      <td>-0.087999</td>\n",
              "      <td>0.009402</td>\n",
              "      <td>0.052219</td>\n",
              "      <td>0.084368</td>\n",
              "      <td>0.077198</td>\n",
              "      <td>1.000000</td>\n",
              "    </tr>\n",
              "  </tbody>\n",
              "</table>\n",
              "</div>"
            ],
            "text/plain": [
              "       scaled_amount  scaled_time        V1  ...       V27       V28     Class\n",
              "V2         -0.210305    -0.248051 -0.821671  ... -0.160119 -0.013049  0.500721\n",
              "V4         -0.009533    -0.223582 -0.620169  ... -0.011735 -0.071010  0.703957\n",
              "V11        -0.014762    -0.344004 -0.537783  ...  0.175792  0.026488  0.682564\n",
              "Class       0.082546    -0.170280 -0.448220  ...  0.084368  0.077198  1.000000\n",
              "\n",
              "[4 rows x 31 columns]"
            ]
          },
          "metadata": {
            "tags": []
          },
          "execution_count": 31
        }
      ]
    },
    {
      "cell_type": "code",
      "metadata": {
        "colab": {
          "base_uri": "https://localhost:8080/",
          "height": 1000
        },
        "id": "rPpamEc1ACUJ",
        "outputId": "1b0b74a5-a565-4c1a-bb8b-aa77a9efa37a"
      },
      "source": [
        "f, axes = plt.subplots(nrows=2,ncols=4,figsize=(26,16))\n",
        "\n",
        "sns.boxplot(x='Class',y='V3',data=new_df, ax=axes[0,0])\n",
        "axes[0,0].set_title('V3 vs Class Negative Correlation')\n",
        "\n",
        "sns.boxplot(x='Class',y='V9',data=new_df,ax=axes[0,1])\n",
        "axes[0,1].set_title('V9 vs Class Negative Correlation')\n",
        "\n",
        "sns.boxplot(x='Class',y='V10',data=new_df, ax=axes[0,2])\n",
        "axes[0,2].set_title('V10 vs Class Negative Correlation')\n",
        "\n",
        "sns.boxplot(x='Class',y='V12',data=new_df,ax=axes[0,3])\n",
        "axes[0,3].set_title('V12 vs Class Negative Correlation')\n",
        "\n",
        "sns.boxplot(x='Class',y='V14',data=new_df, ax=axes[1,0])\n",
        "axes[1,0].set_title('V14 vs Class Negative Correlation')\n",
        "\n",
        "sns.boxplot(x='Class',y='V16',data=new_df,ax=axes[1,1])\n",
        "axes[1,1].set_title('V16 vs Class Negative Correlation')\n",
        "\n",
        "sns.boxplot(x='Class',y='V17',data=new_df, ax=axes[1,2])\n",
        "axes[1,2].set_title('V17 vs Class Negative Correlation')\n",
        "\n",
        "f.delaxes(axes[1,3])\n",
        "f.suptitle('Features With High Positive Correlation', size=30)\n"
      ],
      "execution_count": 32,
      "outputs": [
        {
          "output_type": "execute_result",
          "data": {
            "text/plain": [
              "Text(0.5, 0.98, 'Features With High Positive Correlation')"
            ]
          },
          "metadata": {
            "tags": []
          },
          "execution_count": 32
        },
        {
          "output_type": "display_data",
          "data": {
            "image/png": "[encoded data removed]",
            "text/plain": [
              "<Figure size 1872x1152 with 7 Axes>"
            ]
          },
          "metadata": {
            "tags": [],
            "needs_background": "light"
          }
        }
      ]
    },
    {
      "cell_type": "code",
      "metadata": {
        "colab": {
          "base_uri": "https://localhost:8080/",
          "height": 571
        },
        "id": "jBX8kmqREbGy",
        "outputId": "00f15105-9fe8-448e-d20a-e7224b4ee25f"
      },
      "source": [
        "f,axes=plt.subplots(1,2,figsize=(15,8))\n",
        "f.suptitle('Features With High Positive Correlation', size=30)\n",
        "sns.boxplot(x='Class',y='V4',data=new_df, ax=axes[0])\n",
        "sns.boxplot(x='Class',y='V11',data=new_df, ax=axes[1])"
      ],
      "execution_count": 388,
      "outputs": [
        {
          "output_type": "execute_result",
          "data": {
            "text/plain": [
              "<matplotlib.axes._subplots.AxesSubplot at 0x7f6ac229b860>"
            ]
          },
          "metadata": {
            "tags": []
          },
          "execution_count": 388
        },
        {
          "output_type": "display_data",
          "data": {
            "image/png": "[encoded data removed]",
            "text/plain": [
              "<Figure size 1080x576 with 2 Axes>"
            ]
          },
          "metadata": {
            "tags": [],
            "needs_background": "light"
          }
        }
      ]
    },
    {
      "cell_type": "markdown",
      "metadata": {
        "id": "6D0lezKM84na"
      },
      "source": [
        "# **outliers removal**"
      ]
    },
    {
      "cell_type": "markdown",
      "metadata": {
        "id": "wi7GmpJaJF1G"
      },
      "source": [
        "impact of outliers effects badly on performance of alogirthms. there are some alogirthms which handls well, and some are not. so it is better to remove outliers. here iam using **box plot** to remove outliers"
      ]
    },
    {
      "cell_type": "code",
      "metadata": {
        "colab": {
          "base_uri": "https://localhost:8080/"
        },
        "id": "LPJfTp4u89Kf",
        "outputId": "68423825-9395-45fd-a8e7-e5d5b5e037ec"
      },
      "source": [
        "Q1=new_df.quantile(0.25)\n",
        "Q3=new_df.quantile(0.75)\n",
        "IQR=Q3-Q1\n",
        "df2=new_df[~((new_df < (Q1-2.5*IQR))| (new_df >(Q3+2.5*IQR))).any(axis=1)]\n",
        "len_after = len(df2)\n",
        "len_before = len(new_df)\n",
        "len_difference = len(new_df) - len(df2)\n",
        "print('We reduced our data size from {} transactions by {} transactions to {} transactions.'.format(len_before, len_difference, len_after))"
      ],
      "execution_count": 34,
      "outputs": [
        {
          "output_type": "stream",
          "text": [
            "We reduced our data size from 984 transactions by 288 transactions to 696 transactions.\n"
          ],
          "name": "stdout"
        }
      ]
    },
    {
      "cell_type": "code",
      "metadata": {
        "id": "NMclaSolC-63"
      },
      "source": [
        "from sklearn.manifold import TSNE\n",
        "from sklearn.decomposition import PCA, TruncatedSVD\n",
        "import matplotlib.patches as mpatches\n",
        "import time\n"
      ],
      "execution_count": 35,
      "outputs": []
    },
    {
      "cell_type": "markdown",
      "metadata": {
        "id": "4Fc38vmHEUs8"
      },
      "source": [
        "# **Dimensionality Reduction**"
      ]
    },
    {
      "cell_type": "code",
      "metadata": {
        "colab": {
          "base_uri": "https://localhost:8080/"
        },
        "id": "MA4vJddVEWdS",
        "outputId": "a612b8d6-4dc4-44ec-d5ef-64136a40a290"
      },
      "source": [
        "X = new_df.drop('Class', axis=1)\n",
        "y = new_df['Class']\n",
        "\n",
        "\n",
        "# T-SNE Implementation\n",
        "t0 = time.time()\n",
        "X_reduced_tsne = TSNE(n_components=2, random_state=42).fit_transform(X.values)\n",
        "t1 = time.time()\n",
        "print(\"T-SNE took {:.2} s\".format(t1 - t0))\n",
        "\n",
        "# PCA Implementation\n",
        "t0 = time.time()\n",
        "X_reduced_pca = PCA(n_components=2, random_state=42).fit_transform(X.values)\n",
        "t1 = time.time()\n",
        "print(\"PCA took {:.2} s\".format(t1 - t0))\n",
        "\n",
        "# TruncatedSVD\n",
        "t0 = time.time()\n",
        "X_reduced_svd = TruncatedSVD(n_components=2, algorithm='randomized', random_state=42).fit_transform(X.values)\n",
        "t1 = time.time()\n",
        "print(\"Truncated SVD took {:.2} s\".format(t1 - t0))\n"
      ],
      "execution_count": 36,
      "outputs": [
        {
          "output_type": "stream",
          "text": [
            "T-SNE took 5.7 s\n",
            "PCA took 0.012 s\n",
            "Truncated SVD took 0.0064 s\n"
          ],
          "name": "stdout"
        }
      ]
    },
    {
      "cell_type": "code",
      "metadata": {
        "colab": {
          "base_uri": "https://localhost:8080/",
          "height": 417
        },
        "id": "pnsTo990G9bx",
        "outputId": "acab31bf-94f6-4546-a94a-29da56c93d5d"
      },
      "source": [
        "f, (ax1, ax2, ax3) = plt.subplots(1, 3, figsize=(24,6))\n",
        "# labels = ['No Fraud', 'Fraud']\n",
        "f.suptitle('Clusters using Dimensionality Reduction', fontsize=14)\n",
        "\n",
        "\n",
        "blue_patch = mpatches.Patch(color='#0A0AFF', label='No Fraud')\n",
        "red_patch = mpatches.Patch(color='#AF0000', label='Fraud')\n",
        "\n",
        "\n",
        "# t-SNE scatter plot\n",
        "ax1.scatter(X_reduced_tsne[:,0], X_reduced_tsne[:,1], c=(y == 0), cmap='coolwarm', label='No Fraud', linewidths=2)\n",
        "\n",
        "ax1.scatter(X_reduced_tsne[:,0], X_reduced_tsne[:,1], c=(y == 1), cmap='coolwarm', label='Fraud', linewidths=2)\n",
        "ax1.set_title('t-SNE', fontsize=14)\n",
        "\n",
        "ax1.grid(True)\n",
        "\n",
        "ax1.legend(handles=[blue_patch, red_patch])\n",
        "\n",
        "\n",
        "# PCA scatter plot\n",
        "ax2.scatter(X_reduced_pca[:,0], X_reduced_pca[:,1], c=(y == 0), cmap='coolwarm', label='No Fraud', linewidths=2)\n",
        "ax2.scatter(X_reduced_pca[:,0], X_reduced_pca[:,1], c=(y == 1), cmap='coolwarm', label='Fraud', linewidths=2)\n",
        "ax2.set_title('PCA', fontsize=14)\n",
        "\n",
        "ax2.grid(True)\n",
        "\n",
        "ax2.legend(handles=[blue_patch, red_patch])\n",
        "\n",
        "# TruncatedSVD scatter plot\n",
        "ax3.scatter(X_reduced_svd[:,0], X_reduced_svd[:,1], c=(y == 0), cmap='coolwarm', label='No Fraud', linewidths=2)\n",
        "ax3.scatter(X_reduced_svd[:,0], X_reduced_svd[:,1], c=(y == 1), cmap='coolwarm', label='Fraud', linewidths=2)\n",
        "ax3.set_title('Truncated SVD', fontsize=14)\n",
        "\n",
        "ax3.grid(True)\n",
        "\n",
        "ax3.legend(handles=[blue_patch, red_patch])\n",
        "\n",
        "plt.show()"
      ],
      "execution_count": 37,
      "outputs": [
        {
          "output_type": "display_data",
          "data": {
            "image/png": "[encoded data removed]",
            "text/plain": [
              "<Figure size 1728x432 with 3 Axes>"
            ]
          },
          "metadata": {
            "tags": [],
            "needs_background": "light"
          }
        }
      ]
    },
    {
      "cell_type": "markdown",
      "metadata": {
        "id": "fqJrpfThxi4e"
      },
      "source": [
        "# model building"
      ]
    },
    {
      "cell_type": "markdown",
      "metadata": {
        "id": "N7uha3InKJz2"
      },
      "source": [
        "this is the most important step in ML. we all love to bulid models because it is easy,[ simply using fit and predict functions. thanks to sklearn for making so simple ]. in this case study or project iam using few alogrithms , you can use any , but accuracy might change , ***here iam using metrics accuracy and auc score  ***"
      ]
    },
    {
      "cell_type": "code",
      "metadata": {
        "id": "yLnNxf9kKxyX"
      },
      "source": [
        "X=new_df.drop('Class',axis=1)\n",
        "y=new_df['Class']"
      ],
      "execution_count": 389,
      "outputs": []
    },
    {
      "cell_type": "code",
      "metadata": {
        "id": "gIP7fueQyVL5"
      },
      "source": [
        "from sklearn.model_selection import train_test_split"
      ],
      "execution_count": 39,
      "outputs": []
    },
    {
      "cell_type": "code",
      "metadata": {
        "id": "KO68KyApyhPk"
      },
      "source": [
        "X_train,X_test,y_train,y_test=train_test_split(X,y,test_size=0.25,random_state=42)\n"
      ],
      "execution_count": 40,
      "outputs": []
    },
    {
      "cell_type": "code",
      "metadata": {
        "id": "F66LYjUG2fa9"
      },
      "source": [
        "X_train = X_train.values\n",
        "X_test = X_test.values\n",
        "y_train = y_train.values\n",
        "y_test = y_test.values\n"
      ],
      "execution_count": 41,
      "outputs": []
    },
    {
      "cell_type": "code",
      "metadata": {
        "colab": {
          "base_uri": "https://localhost:8080/"
        },
        "id": "7IN8-Xcn26ZM",
        "outputId": "0a501d6e-2c1c-4480-95bf-51b00b41bbe4"
      },
      "source": [
        "X_train.shape,X_test.shape,y_train.shape,y_test.shape"
      ],
      "execution_count": 42,
      "outputs": [
        {
          "output_type": "execute_result",
          "data": {
            "text/plain": [
              "((738, 30), (246, 30), (738,), (246,))"
            ]
          },
          "metadata": {
            "tags": []
          },
          "execution_count": 42
        }
      ]
    },
    {
      "cell_type": "code",
      "metadata": {
        "id": "v3PttvJgNQSY"
      },
      "source": [
        "from sklearn.linear_model import LogisticRegression\n",
        "from sklearn.metrics import confusion_matrix, classification_report, accuracy_score, roc_auc_score, roc_curve,recall_score\n",
        "from sklearn.metrics import plot_confusion_matrix\n",
        "from sklearn.model_selection import cross_val_score\n",
        "from sklearn.model_selection import cross_val_predict\n",
        "from sklearn.model_selection import GridSearchCV\n",
        "from sklearn.model_selection import RepeatedStratifiedKFold\n",
        "\n",
        "from sklearn.svm import SVC\n",
        "from sklearn.neighbors import KNeighborsClassifier\n",
        "from sklearn.tree import DecisionTreeClassifier\n",
        "from sklearn.ensemble import RandomForestClassifier\n",
        "from sklearn.ensemble import GradientBoostingClassifier"
      ],
      "execution_count": 43,
      "outputs": []
    },
    {
      "cell_type": "markdown",
      "metadata": {
        "id": "2Cm2jZzbahub"
      },
      "source": [
        "**over fitting:-** Overfitting means model has High accuracy score on training data but low score on test data."
      ]
    },
    {
      "cell_type": "markdown",
      "metadata": {
        "id": "2UxXLx_ka3yb"
      },
      "source": [
        "**Underfitting:-** Underfitting means model has low accuracy score on training data and test data both."
      ]
    },
    {
      "cell_type": "markdown",
      "metadata": {
        "id": "tFKHuJqSbLDB"
      },
      "source": [
        "**What is Right Fit?**\n",
        "\n",
        "Model is considered to be RightFit. when it is generalised and behaves more or less in the same way as on training data and on test data.\n",
        "Model accuracy should be almost same on training and test data."
      ]
    },
    {
      "cell_type": "markdown",
      "metadata": {
        "id": "tS6cauc4DOXu"
      },
      "source": [
        "![032918_0938_DecisionTre2.png](data:image/png;base64,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)"
      ]
    },
    {
      "cell_type": "markdown",
      "metadata": {
        "id": "xSeFjYCsFNv-"
      },
      "source": [
        "![082918_1030_LinearClass9.jpg](data:image/jpeg;base64,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)![082918_1030_LinearClass10.jpg](data:image/jpeg;base64,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)"
      ]
    },
    {
      "cell_type": "markdown",
      "metadata": {
        "id": "8jSr3dZaEeC3"
      },
      "source": [
        "TP: True Positive: Predicted values correctly predicted as actual positive\r\n",
        "\r\n",
        "FP: Predicted values incorrectly predicted an actual positive. i.e., Negative values predicted as positive\r\n",
        "\r\n",
        "FN: False Negative: Positive values predicted as negative\r\n",
        "\r\n",
        "TN: True Negative: Predicted values correctly predicted as an actual negative"
      ]
    },
    {
      "cell_type": "markdown",
      "metadata": {
        "id": "4wOkSgJUGNj5"
      },
      "source": [
        "please go through the link for detailed classification ofn confusion matrix(recall ,precision, roc and auc ) [link text](https://towardsdatascience.com/beyond-accuracy-precision-and-recall-3da06bea9f6c)"
      ]
    },
    {
      "cell_type": "markdown",
      "metadata": {
        "id": "MjQTcBX2E0s3"
      },
      "source": [
        "**svm model**"
      ]
    },
    {
      "cell_type": "code",
      "metadata": {
        "colab": {
          "base_uri": "https://localhost:8080/"
        },
        "id": "6MYE-KHsIA6w",
        "outputId": "e69c18fc-e3d3-4a38-931c-9d2e3b5e9701"
      },
      "source": [
        "from sklearn.svm import SVC\n",
        "from sklearn.model_selection import GridSearchCV\n",
        "svc_model=SVC(random_state=42)\n",
        "svc_model.fit(X_train,y_train)\n",
        "\n"
      ],
      "execution_count": 124,
      "outputs": [
        {
          "output_type": "execute_result",
          "data": {
            "text/plain": [
              "SVC(C=1.0, break_ties=False, cache_size=200, class_weight=None, coef0=0.0,\n",
              "    decision_function_shape='ovr', degree=3, gamma='scale', kernel='rbf',\n",
              "    max_iter=-1, probability=False, random_state=42, shrinking=True, tol=0.001,\n",
              "    verbose=False)"
            ]
          },
          "metadata": {
            "tags": []
          },
          "execution_count": 124
        }
      ]
    },
    {
      "cell_type": "code",
      "metadata": {
        "colab": {
          "base_uri": "https://localhost:8080/"
        },
        "id": "y0rFzTDIPAwj",
        "outputId": "6e210c55-976a-43e4-85db-345308ddc70c"
      },
      "source": [
        "svc_predict=svc_model.predict(X_test)\n",
        "print('*'*100)\n",
        "print('confusion matrix:-',confusion_matrix(y_test,svc_predict))\n",
        "\n",
        "print('accuracy score for svm',accuracy_score(y_test,svc_predict)*100)\n",
        "print('*'*100)\n",
        "print('roc score for svm',roc_auc_score(y_test,svc_predict)*100)\n",
        "print('*'*100)\n"
      ],
      "execution_count": 125,
      "outputs": [
        {
          "output_type": "stream",
          "text": [
            "****************************************************************************************************\n",
            "confusion matrix:- [[109   0]\n",
            " [ 25 112]]\n",
            "accuracy score for svm 89.83739837398373\n",
            "****************************************************************************************************\n",
            "roc score for svm 90.87591240875912\n",
            "****************************************************************************************************\n"
          ],
          "name": "stdout"
        }
      ]
    },
    {
      "cell_type": "markdown",
      "metadata": {
        "id": "nqWv44kQQfhk"
      },
      "source": [
        "we need to check whether your model is ***under fitting or over fitting ***. so we need to test your model on both traning and testing data. if there is high difference then your model is ***under fitting .*** if we have high traning accuracy then it is ***over fitting***. so differnce should be ***equal or less ***"
      ]
    },
    {
      "cell_type": "code",
      "metadata": {
        "colab": {
          "base_uri": "https://localhost:8080/"
        },
        "id": "dV8mzj00SDE_",
        "outputId": "9b6c712f-b3fd-4703-f1f7-8cf4a0d26a14"
      },
      "source": [
        "tranning_accuracy=svc_model.predict(X_train)\n",
        "print('tranning_accuracy using svm',accuracy_score(y_train,tranning_accuracy)*100,\"%\")\n",
        "print('tranning_roc_auc score using svm',roc_auc_score(y_train,svc_model.predict(X_train))*100,\"%\")"
      ],
      "execution_count": 390,
      "outputs": [
        {
          "output_type": "stream",
          "text": [
            "tranning_accuracy using svm 94.3089430894309 %\n",
            "tranning_roc_auc score using svm 94.12569411245542 %\n"
          ],
          "name": "stdout"
        }
      ]
    },
    {
      "cell_type": "markdown",
      "metadata": {
        "id": "r_ptJHp9UJgm"
      },
      "source": [
        "if we see the ***accuracy on traning is  around 94 %***,where on ***testing is around 89%.*** there is lesser difference so your ***model has right fit***. same in the case of roc also"
      ]
    },
    {
      "cell_type": "markdown",
      "metadata": {
        "id": "pnL6CcN2QH7N"
      },
      "source": [
        "## ***hyper tuning***"
      ]
    },
    {
      "cell_type": "markdown",
      "metadata": {
        "id": "gALRJul0VESu"
      },
      "source": [
        "hyper tuning of models ***defintely increases performance metrics and also reduces overfitting*** if your model perfomance is **not increased after hyper tuning**,it means **you are not providing the enough parameters**. here iam using girdsearchv "
      ]
    },
    {
      "cell_type": "code",
      "metadata": {
        "id": "zzZHhe7DQKyn"
      },
      "source": [
        "from sklearn.model_selection import GridSearchCV\n",
        "\n",
        "#kernel=['poly','rbf','sigmoid']\n",
        "#C =[0.1,10,15,20,30,40,50,60,70,80,90,100]\n",
        "#gamma=[10,9,8,7,6,5,4,3,2,1, 0.1, 0.001, 0.0001]\n",
        "#random_state=[42]\n",
        "#grid_svc=dict(kernel=kernel,C=C,gamma=gamma,random_state=random_state)\n",
        "#param_grid = {'C': [0.1, 1],  \n",
        "              #'gamma': [1, 0.1, 0.01, 0.001, 0.0001], \n",
        "              #'kernel': ['rbf']\n",
        "              #,'random_state':[42]} \n",
        "              \n",
        "hparams = {\"C\": [0.1,2,3,10], \n",
        "                   \"kernel\": [ \"rbf\", \"poly\",'sigmoid'],'gamma':['scale'],\n",
        "                   'random_state':[42]}\n",
        "              \n",
        "gird_search_svc=GridSearchCV(svc_model,param_grid=hparams,n_jobs=-1,scoring='accuracy')\n",
        "\n"
      ],
      "execution_count": 395,
      "outputs": []
    },
    {
      "cell_type": "code",
      "metadata": {
        "id": "8Ked3DiSrI1t"
      },
      "source": [
        "gird_svm_results=gird_search_svc.fit(X_train,y_train)"
      ],
      "execution_count": 396,
      "outputs": []
    },
    {
      "cell_type": "code",
      "metadata": {
        "id": "mSixaZRtTEUZ",
        "colab": {
          "base_uri": "https://localhost:8080/"
        },
        "outputId": "12fbb225-1a34-4dd8-c95d-72c6c16afed5"
      },
      "source": [
        "gird_svm_results.best_params_"
      ],
      "execution_count": 397,
      "outputs": [
        {
          "output_type": "execute_result",
          "data": {
            "text/plain": [
              "{'C': 10, 'gamma': 'scale', 'kernel': 'rbf', 'random_state': 42}"
            ]
          },
          "metadata": {
            "tags": []
          },
          "execution_count": 397
        }
      ]
    },
    {
      "cell_type": "code",
      "metadata": {
        "id": "5Far3n8jUdvS",
        "colab": {
          "base_uri": "https://localhost:8080/"
        },
        "outputId": "f6c2d8a5-dc38-49f9-f249-2a18046698e1"
      },
      "source": [
        "print('acuracy for svm after hyper tunning',accuracy_score(y_test,gird_svm_results.predict(X_test))*100,'%')\n",
        "print('*'*100)\n",
        "print('roc_auc for svm after hyper tunning',roc_auc_score(y_test,gird_svm_results.predict(X_test))*100,'%')\n",
        "\n",
        "print('*'*100)"
      ],
      "execution_count": 398,
      "outputs": [
        {
          "output_type": "stream",
          "text": [
            "acuracy for svm after hyper tunning 91.46341463414635 %\n",
            "****************************************************************************************************\n",
            "roc_auc for svm after hyper tunning 92.24201433067702 %\n",
            "****************************************************************************************************\n"
          ],
          "name": "stdout"
        }
      ]
    },
    {
      "cell_type": "markdown",
      "metadata": {
        "id": "5dx5dsBXXUO8"
      },
      "source": [
        "after hyper tuning model accuracy and roc_auc increased.lets check your model after hypertuning on tranning data and compare with test data"
      ]
    },
    {
      "cell_type": "code",
      "metadata": {
        "id": "b3-mNVl_YPYY",
        "colab": {
          "base_uri": "https://localhost:8080/"
        },
        "outputId": "3a97f972-8e9d-4aa5-baf3-348a54639727"
      },
      "source": [
        "print('tranning_accuracy score using svm after hyper tunning',accuracy_score(y_train,gird_svm_results.predict(X_train))*100,\"%\")\n",
        "print('tranning_roc_auc score using svm after hyper tunning',roc_auc_score(y_train,gird_svm_results.predict(X_train))*100,\"%\")"
      ],
      "execution_count": 131,
      "outputs": [
        {
          "output_type": "stream",
          "text": [
            "tranning_accuracy score using svm after hyper tunning 95.52845528455285 %\n",
            "tranning_roc_auc score using svm after hyper tunning 95.40359651380871 %\n"
          ],
          "name": "stdout"
        }
      ]
    },
    {
      "cell_type": "markdown",
      "metadata": {
        "id": "Goa8EtIrZXlb"
      },
      "source": [
        "accuracy and roc_auc score after hyper tuning on traning and testing data is almost equal. this means we have right fit \n",
        "\n",
        "**lets see all results using svm**"
      ]
    },
    {
      "cell_type": "code",
      "metadata": {
        "id": "LiYI0VFaaSo0",
        "colab": {
          "base_uri": "https://localhost:8080/"
        },
        "outputId": "dfef8a39-52b2-4855-9d1c-2e8f5f46fd83"
      },
      "source": [
        "print('confusion matrix:-',confusion_matrix(y_test,svc_predict))\n",
        "\n",
        "print('accuracy score for svm',accuracy_score(y_test,svc_predict)*100)\n",
        "\n",
        "print('roc score for svm',roc_auc_score(y_test,svc_predict)*100)\n",
        "\n",
        "\n",
        "\n",
        "print('*'*40,'after hyper tunning','*'*30)\n",
        "print('confusion matrix after hyper tunning:-',confusion_matrix(y_test,gird_svm_results.predict(X_test)))\n",
        "\n",
        "print('acuracy for svm after hyper tunning',accuracy_score(y_test,gird_svm_results.predict(X_test))*100,'%')\n",
        "\n",
        "print('roc_auc for svm after hyper tunning',roc_auc_score(y_test,gird_svm_results.predict(X_test))*100,'%')\n"
      ],
      "execution_count": 132,
      "outputs": [
        {
          "output_type": "stream",
          "text": [
            "confusion matrix:- [[109   0]\n",
            " [ 25 112]]\n",
            "accuracy score for svm 89.83739837398373\n",
            "roc score for svm 90.87591240875912\n",
            "**************************************** after hyper tunning ******************************\n",
            "confusion matrix after hyper tunning:- [[108   1]\n",
            " [ 20 117]]\n",
            "acuracy for svm after hyper tunning 91.46341463414635 %\n",
            "roc_auc for svm after hyper tunning 92.24201433067702 %\n"
          ],
          "name": "stdout"
        }
      ]
    },
    {
      "cell_type": "markdown",
      "metadata": {
        "id": "pHnPVfjlfNX3"
      },
      "source": [
        "**decision tress**"
      ]
    },
    {
      "cell_type": "code",
      "metadata": {
        "id": "-cWJbEOHaNAX",
        "colab": {
          "base_uri": "https://localhost:8080/"
        },
        "outputId": "d3b29782-6e19-4f2b-95c7-537bd393d32b"
      },
      "source": [
        "dec_model=DecisionTreeClassifier(random_state=42)\n",
        "dec_model.fit(X_train,y_train)\n",
        "print('accuracy score for decision tress',accuracy_score(y_test,dec_model.predict(X_test))*100,'%')\n",
        "print('roc_auc score for decision tress',roc_auc_score(y_test,dec_model.predict(X_test))*100,'%')"
      ],
      "execution_count": 399,
      "outputs": [
        {
          "output_type": "stream",
          "text": [
            "accuracy score for decision tress 91.05691056910568 %\n",
            "roc_auc score for decision tress 91.40829036362419 %\n"
          ],
          "name": "stdout"
        }
      ]
    },
    {
      "cell_type": "code",
      "metadata": {
        "colab": {
          "base_uri": "https://localhost:8080/"
        },
        "id": "xSf0jeza_bOL",
        "outputId": "15a3a78c-e8f4-487e-da63-b3e895a58939"
      },
      "source": [
        "dec_model"
      ],
      "execution_count": 135,
      "outputs": [
        {
          "output_type": "execute_result",
          "data": {
            "text/plain": [
              "DecisionTreeClassifier(ccp_alpha=0.0, class_weight=None, criterion='gini',\n",
              "                       max_depth=None, max_features=None, max_leaf_nodes=None,\n",
              "                       min_impurity_decrease=0.0, min_impurity_split=None,\n",
              "                       min_samples_leaf=1, min_samples_split=2,\n",
              "                       min_weight_fraction_leaf=0.0, presort='deprecated',\n",
              "                       random_state=42, splitter='best')"
            ]
          },
          "metadata": {
            "tags": []
          },
          "execution_count": 135
        }
      ]
    },
    {
      "cell_type": "code",
      "metadata": {
        "id": "RZerrv9s5_nW",
        "colab": {
          "base_uri": "https://localhost:8080/"
        },
        "outputId": "7fbeffef-7571-4ed1-8cb1-2d0dd1ccb091"
      },
      "source": [
        "print('traning accuracy using decision trees',accuracy_score(y_train,dec_model.predict(X_train))*100,'%')\n",
        "print('traning roc_auc using decision trees',roc_auc_score(y_train,dec_model.predict(X_train))*100,'%')\n"
      ],
      "execution_count": 95,
      "outputs": [
        {
          "output_type": "stream",
          "text": [
            "traning accuracy using decision trees 100.0 %\n",
            "traning roc_auc using decision trees 100.0 %\n"
          ],
          "name": "stdout"
        }
      ]
    },
    {
      "cell_type": "markdown",
      "metadata": {
        "id": "L6ER5BQ-6iAA"
      },
      "source": [
        "you notice that your model gives **100%** acc or auc score on **traning data**,**and** around **90%** acc and roc score on **testing data**. your model is **overfitting** because of **high traning accuracy** and roc score"
      ]
    },
    {
      "cell_type": "markdown",
      "metadata": {
        "id": "LRGyTSGHdRsq"
      },
      "source": [
        "**hypertuning**"
      ]
    },
    {
      "cell_type": "code",
      "metadata": {
        "id": "81W7P33Hauew"
      },
      "source": [
        "params = {\n",
        "          \n",
        "          'min_samples_split': [3,4,5,7], \n",
        "          'min_samples_leaf':[2,3,4,5,6,7,8],\n",
        "          'criterion' : ['gini','entropy'],\n",
        "          'max_depth':[1,2,5,7],'random_state':[42]\n",
        "          }"
      ],
      "execution_count": 136,
      "outputs": []
    },
    {
      "cell_type": "code",
      "metadata": {
        "id": "7j6BXZxda6Bq"
      },
      "source": [
        "grid_para_dec=GridSearchCV(dec_model,param_grid=params,scoring='accuracy',n_jobs=-1)"
      ],
      "execution_count": 119,
      "outputs": []
    },
    {
      "cell_type": "code",
      "metadata": {
        "id": "JKXW5_3Pa6VS",
        "colab": {
          "base_uri": "https://localhost:8080/"
        },
        "outputId": "cb798a83-7217-4f8e-9b1d-cfe7b0d62044"
      },
      "source": [
        "grid_para_dec.fit(X_train,y_train)"
      ],
      "execution_count": 137,
      "outputs": [
        {
          "output_type": "execute_result",
          "data": {
            "text/plain": [
              "GridSearchCV(cv=None, error_score=nan,\n",
              "             estimator=DecisionTreeClassifier(ccp_alpha=0.0, class_weight=None,\n",
              "                                              criterion='gini', max_depth=None,\n",
              "                                              max_features=None,\n",
              "                                              max_leaf_nodes=None,\n",
              "                                              min_impurity_decrease=0.0,\n",
              "                                              min_impurity_split=None,\n",
              "                                              min_samples_leaf=1,\n",
              "                                              min_samples_split=2,\n",
              "                                              min_weight_fraction_leaf=0.0,\n",
              "                                              presort='deprecated',\n",
              "                                              random_state=42,\n",
              "                                              splitter='best'),\n",
              "             iid='deprecated', n_jobs=-1,\n",
              "             param_grid={'criterion': ['gini', 'entropy'],\n",
              "                         'max_depth': [1, 2, 5, 7],\n",
              "                         'min_samples_leaf': [2, 3, 4, 5, 6, 7, 8],\n",
              "                         'min_samples_split': [3, 4, 5, 7],\n",
              "                         'random_state': [42]},\n",
              "             pre_dispatch='2*n_jobs', refit=True, return_train_score=False,\n",
              "             scoring='accuracy', verbose=0)"
            ]
          },
          "metadata": {
            "tags": []
          },
          "execution_count": 137
        }
      ]
    },
    {
      "cell_type": "code",
      "metadata": {
        "id": "z4CTGkcbb5dS",
        "colab": {
          "base_uri": "https://localhost:8080/"
        },
        "outputId": "04b36975-5ce1-45bb-8a35-31c80a0ad40e"
      },
      "source": [
        "grid_para_dec.best_params_"
      ],
      "execution_count": 138,
      "outputs": [
        {
          "output_type": "execute_result",
          "data": {
            "text/plain": [
              "{'criterion': 'gini',\n",
              " 'max_depth': 5,\n",
              " 'min_samples_leaf': 7,\n",
              " 'min_samples_split': 3,\n",
              " 'random_state': 42}"
            ]
          },
          "metadata": {
            "tags": []
          },
          "execution_count": 138
        }
      ]
    },
    {
      "cell_type": "code",
      "metadata": {
        "id": "LD73T3a3boHO",
        "colab": {
          "base_uri": "https://localhost:8080/"
        },
        "outputId": "6ada8a04-ccaf-4b5c-dc51-775e5db2a6b5"
      },
      "source": [
        "print('accuracy sore for decision trees after hyper tuning',accuracy_score(y_test,grid_para_dec.predict(X_test))*100,'%')\n",
        "print('roc_auc score for decision trees after hyper tuning',roc_auc_score(y_test,grid_para_dec.predict(X_test))*100,'%')"
      ],
      "execution_count": 139,
      "outputs": [
        {
          "output_type": "stream",
          "text": [
            "accuracy sore for decision trees after hyper tuning 91.46341463414635 %\n",
            "roc_auc score for decision trees after hyper tuning 92.24201433067702 %\n"
          ],
          "name": "stdout"
        }
      ]
    },
    {
      "cell_type": "code",
      "metadata": {
        "id": "w9yneVWv7gY-",
        "colab": {
          "base_uri": "https://localhost:8080/"
        },
        "outputId": "57289a09-c350-4934-c4f9-5f40e0b36e80"
      },
      "source": [
        "print('traning accuracy after hyper tunning for decision trees',accuracy_score(y_train,grid_para_dec.predict(X_train))*100,'%')\n",
        "print('traning roc_auc sore after hyper tunning for decision trees',roc_auc_score(y_train,grid_para_dec.predict(X_train))*100,'%')\n"
      ],
      "execution_count": 140,
      "outputs": [
        {
          "output_type": "stream",
          "text": [
            "traning accuracy after hyper tunning for decision trees 94.98644986449864 %\n",
            "traning roc_auc sore after hyper tunning for decision trees 94.80932592946714 %\n"
          ],
          "name": "stdout"
        }
      ]
    },
    {
      "cell_type": "markdown",
      "metadata": {
        "id": "iSPlXjwb9V9O"
      },
      "source": [
        "before hypertuning we have **100%** traning acc or auc score,around **91%** acc or auc score on testing data \n",
        "\n",
        "but after HT traning acc,roc is around **95.00** and  and acc,roc on testing data after HT is around **91**..after ht we reduced overfitting of model .  "
      ]
    },
    {
      "cell_type": "markdown",
      "metadata": {
        "id": "t75sBZqR_Fsr"
      },
      "source": [
        "**total results for decision trees**"
      ]
    },
    {
      "cell_type": "code",
      "metadata": {
        "id": "d2kCSNP1_DBb",
        "colab": {
          "base_uri": "https://localhost:8080/"
        },
        "outputId": "6bf5657a-6f3a-4b5a-b69b-ae6aaf58dc4b"
      },
      "source": [
        "print('confusion matrix:-',confusion_matrix(y_test,dec_model.predict(X_test)))\n",
        "print('accuracy score for decision tress',accuracy_score(y_test,dec_model.predict(X_test))*100,'%')\n",
        "print('roc_auc score for decision tress',roc_auc_score(y_test,dec_model.predict(X_test))*100,'%')\n",
        "print('*'*40,'after hyper tunning','*'*30)\n",
        "print('accuracy sore for decision trees after hyper tuning',accuracy_score(y_test,grid_para_dec.predict(X_test))*100,'%')\n",
        "print('roc_auc score for decision trees after hyper tuning',roc_auc_score(y_test,grid_para_dec.predict(X_test))*100,'%')\n",
        "print('confusion matrix:-',confusion_matrix(y_test,grid_para_dec.predict(X_test)))\n"
      ],
      "execution_count": 141,
      "outputs": [
        {
          "output_type": "stream",
          "text": [
            "confusion matrix:- [[103   6]\n",
            " [ 16 121]]\n",
            "accuracy score for decision tress 91.05691056910568 %\n",
            "roc_auc score for decision tress 91.40829036362419 %\n",
            "**************************************** after hyper tunning ******************************\n",
            "accuracy sore for decision trees after hyper tuning 91.46341463414635 %\n",
            "roc_auc score for decision trees after hyper tuning 92.24201433067702 %\n",
            "confusion matrix:- [[108   1]\n",
            " [ 20 117]]\n"
          ],
          "name": "stdout"
        }
      ]
    },
    {
      "cell_type": "markdown",
      "metadata": {
        "id": "Bw3x4OQId7Wu"
      },
      "source": [
        "**random forest**"
      ]
    },
    {
      "cell_type": "code",
      "metadata": {
        "id": "K0cteEtvdVnU",
        "colab": {
          "base_uri": "https://localhost:8080/"
        },
        "outputId": "38161e05-c2dc-4c1c-d559-4b72129edd45"
      },
      "source": [
        "from sklearn.ensemble import RandomForestClassifier\n",
        "ran_model=RandomForestClassifier(random_state=42)\n",
        "ran_model.fit(X_train,y_train)\n",
        "\n",
        "print(confusion_matrix(y_test,ran_model.predict(X_test)))\n",
        "print('accuracy using random forest',accuracy_score(y_test,ran_model.predict(X_test))*100,'%')\n",
        "print('roc score using random forest',roc_auc_score(y_test,ran_model.predict(X_test))*100,'%')"
      ],
      "execution_count": 254,
      "outputs": [
        {
          "output_type": "stream",
          "text": [
            "[[109   0]\n",
            " [ 20 117]]\n",
            "accuracy using random forest 91.869918699187 %\n",
            "roc score using random forest 92.7007299270073 %\n"
          ],
          "name": "stdout"
        }
      ]
    },
    {
      "cell_type": "code",
      "metadata": {
        "id": "aI6J7NwNApGl",
        "colab": {
          "base_uri": "https://localhost:8080/"
        },
        "outputId": "c964783d-eb8e-4859-fdb7-f2642f2de5df"
      },
      "source": [
        "print('traning accuracy using random forest',accuracy_score(y_train,ran_model.predict(X_train))*100,'%')\n",
        "print('traning roc_auc using  random forest',roc_auc_score(y_train,ran_model.predict(X_train))*100,'%')"
      ],
      "execution_count": 255,
      "outputs": [
        {
          "output_type": "stream",
          "text": [
            "traning accuracy using random forest 100.0 %\n",
            "traning roc_auc using  random forest 100.0 %\n"
          ],
          "name": "stdout"
        }
      ]
    },
    {
      "cell_type": "markdown",
      "metadata": {
        "id": "JYIeeAfsBDrR"
      },
      "source": [
        "you notice that your model gives **100**% acc or auc score on traning data,and **93-94**% acc and roc score on testing data. your model is **overfitting** because of **high traning** accuracy & roc score"
      ]
    },
    {
      "cell_type": "markdown",
      "metadata": {
        "id": "OIMyMAPNeAzJ"
      },
      "source": [
        "# **tunning**"
      ]
    },
    {
      "cell_type": "code",
      "metadata": {
        "colab": {
          "base_uri": "https://localhost:8080/"
        },
        "id": "1HZo8vS9WGVW",
        "outputId": "16600e67-5f7d-4fce-a59f-04841b0dbb4f"
      },
      "source": [
        "ran_model"
      ],
      "execution_count": 256,
      "outputs": [
        {
          "output_type": "execute_result",
          "data": {
            "text/plain": [
              "RandomForestClassifier(bootstrap=True, ccp_alpha=0.0, class_weight=None,\n",
              "                       criterion='gini', max_depth=None, max_features='auto',\n",
              "                       max_leaf_nodes=None, max_samples=None,\n",
              "                       min_impurity_decrease=0.0, min_impurity_split=None,\n",
              "                       min_samples_leaf=1, min_samples_split=2,\n",
              "                       min_weight_fraction_leaf=0.0, n_estimators=100,\n",
              "                       n_jobs=None, oob_score=False, random_state=42, verbose=0,\n",
              "                       warm_start=False)"
            ]
          },
          "metadata": {
            "tags": []
          },
          "execution_count": 256
        }
      ]
    },
    {
      "cell_type": "code",
      "metadata": {
        "id": "r5xJSR6xeDQH"
      },
      "source": [
        "params = {\n",
        "          \n",
        "          'max_depth':[5,6,7,9,],\n",
        "          'min_samples_leaf':[2,3,4,5,6,7],\n",
        "          'min_samples_split':[4,5,6,8,7], \n",
        "          \n",
        "          'n_jobs':[-1],'random_state':[42]}"
      ],
      "execution_count": 379,
      "outputs": []
    },
    {
      "cell_type": "code",
      "metadata": {
        "id": "mQKJbCISeRrh",
        "colab": {
          "base_uri": "https://localhost:8080/"
        },
        "outputId": "1750d0fc-9641-43af-b09b-4196d61d76ee"
      },
      "source": [
        "ran_grid=GridSearchCV(ran_model,param_grid=params,scoring='accuracy')\n",
        "ran_grid.fit(X_train,y_train)\n"
      ],
      "execution_count": 380,
      "outputs": [
        {
          "output_type": "execute_result",
          "data": {
            "text/plain": [
              "GridSearchCV(cv=None, error_score=nan,\n",
              "             estimator=RandomForestClassifier(bootstrap=True, ccp_alpha=0.0,\n",
              "                                              class_weight=None,\n",
              "                                              criterion='gini', max_depth=None,\n",
              "                                              max_features='auto',\n",
              "                                              max_leaf_nodes=None,\n",
              "                                              max_samples=None,\n",
              "                                              min_impurity_decrease=0.0,\n",
              "                                              min_impurity_split=None,\n",
              "                                              min_samples_leaf=1,\n",
              "                                              min_samples_split=2,\n",
              "                                              min_weight_fraction_leaf=0.0,\n",
              "                                              n_estimators=100, n_jobs=None,\n",
              "                                              oob_score=False, random_state=42,\n",
              "                                              verbose=0, warm_start=False),\n",
              "             iid='deprecated', n_jobs=None,\n",
              "             param_grid={'max_depth': [5, 6, 7, 9],\n",
              "                         'min_samples_leaf': [2, 3, 4, 5, 6, 7],\n",
              "                         'min_samples_split': [4, 5, 6, 8, 7], 'n_jobs': [-1],\n",
              "                         'random_state': [42]},\n",
              "             pre_dispatch='2*n_jobs', refit=True, return_train_score=False,\n",
              "             scoring='accuracy', verbose=0)"
            ]
          },
          "metadata": {
            "tags": []
          },
          "execution_count": 380
        }
      ]
    },
    {
      "cell_type": "code",
      "metadata": {
        "id": "4PUSk1IsHZ4w",
        "colab": {
          "base_uri": "https://localhost:8080/"
        },
        "outputId": "7e9edc02-0d04-4fc6-a0c9-a385a9f75e79"
      },
      "source": [
        "ran_grid.best_params_"
      ],
      "execution_count": 381,
      "outputs": [
        {
          "output_type": "execute_result",
          "data": {
            "text/plain": [
              "{'max_depth': 9,\n",
              " 'min_samples_leaf': 2,\n",
              " 'min_samples_split': 6,\n",
              " 'n_jobs': -1,\n",
              " 'random_state': 42}"
            ]
          },
          "metadata": {
            "tags": []
          },
          "execution_count": 381
        }
      ]
    },
    {
      "cell_type": "code",
      "metadata": {
        "id": "rhfws_KMnt-y",
        "colab": {
          "base_uri": "https://localhost:8080/"
        },
        "outputId": "b85127be-ecd7-44e7-d671-2e60b9a96278"
      },
      "source": [
        "print('accuracy of random forest after HT',accuracy_score(y_test,ran_grid.predict(X_test))*100,'%')\n",
        "print('roc  of random forest after HT',roc_auc_score(y_test,ran_grid.predict(X_test))*100,'%')"
      ],
      "execution_count": 382,
      "outputs": [
        {
          "output_type": "stream",
          "text": [
            "accuracy of random forest after HT 92.27642276422763 %\n",
            "roc  of random forest after HT 93.06569343065694 %\n"
          ],
          "name": "stdout"
        }
      ]
    },
    {
      "cell_type": "markdown",
      "metadata": {
        "id": "YW4T8vb6Do1i"
      },
      "source": [
        "**total results for random forest**"
      ]
    },
    {
      "cell_type": "code",
      "metadata": {
        "id": "_j89U7U_Dufr",
        "colab": {
          "base_uri": "https://localhost:8080/"
        },
        "outputId": "d42f32e4-ea01-4a69-a9a2-79f232de3541"
      },
      "source": [
        "print(confusion_matrix(y_test,ran_model.predict(X_test)))\n",
        "print('accuracy using random forest',accuracy_score(y_test,ran_model.predict(X_test))*100,'%')\n",
        "print('roc score using random forest',roc_auc_score(y_test,ran_model.predict(X_test))*100,'%')\n",
        "print('*'*40,'after hyper tunning','*'*30)\n",
        "print('accuracy of random forest after HT',accuracy_score(y_test,ran_grid.predict(X_test))*100,'%')\n",
        "print('roc  of random forest after HT',roc_auc_score(y_test,ran_grid.predict(X_test))*100,'%')\n",
        "print(confusion_matrix(y_test,ran_grid.predict(X_test)))\n",
        "\n"
      ],
      "execution_count": 387,
      "outputs": [
        {
          "output_type": "stream",
          "text": [
            "[[109   0]\n",
            " [ 20 117]]\n",
            "accuracy using random forest 91.869918699187 %\n",
            "roc score using random forest 92.7007299270073 %\n",
            "**************************************** after hyper tunning ******************************\n",
            "accuracy of random forest after HT 92.27642276422763 %\n",
            "roc  of random forest after HT 93.06569343065694 %\n",
            "[[109   0]\n",
            " [ 19 118]]\n"
          ],
          "name": "stdout"
        }
      ]
    },
    {
      "cell_type": "markdown",
      "metadata": {
        "id": "ghiL03qbJWHM"
      },
      "source": [
        "# logistic regeression"
      ]
    },
    {
      "cell_type": "code",
      "metadata": {
        "id": "2iEa3tR_JUn0"
      },
      "source": [
        "from sklearn.linear_model import LogisticRegression\n",
        "import numpy as np\n"
      ],
      "execution_count": 287,
      "outputs": []
    },
    {
      "cell_type": "code",
      "metadata": {
        "id": "eokENYCMJZTm",
        "colab": {
          "base_uri": "https://localhost:8080/"
        },
        "outputId": "05f85aa9-8cb6-4df0-bed2-4ccafd0d881b"
      },
      "source": [
        "lr=LogisticRegression(random_state=42)\n",
        "\n",
        "lr.fit(X_train,y_train)\n"
      ],
      "execution_count": 288,
      "outputs": [
        {
          "output_type": "execute_result",
          "data": {
            "text/plain": [
              "LogisticRegression(C=1.0, class_weight=None, dual=False, fit_intercept=True,\n",
              "                   intercept_scaling=1, l1_ratio=None, max_iter=100,\n",
              "                   multi_class='auto', n_jobs=None, penalty='l2',\n",
              "                   random_state=42, solver='lbfgs', tol=0.0001, verbose=0,\n",
              "                   warm_start=False)"
            ]
          },
          "metadata": {
            "tags": []
          },
          "execution_count": 288
        }
      ]
    },
    {
      "cell_type": "code",
      "metadata": {
        "id": "cY4RQsl6QJSZ",
        "colab": {
          "base_uri": "https://localhost:8080/"
        },
        "outputId": "88c47f93-c10e-4aac-b668-cc75b208e1c4"
      },
      "source": [
        "print('accuracy for LR ',accuracy_score(y_test,lr.predict(X_test))*100,'%')\n",
        "print('roc for LR ',roc_auc_score(y_test,lr.predict(X_test))*100,'%')"
      ],
      "execution_count": 289,
      "outputs": [
        {
          "output_type": "stream",
          "text": [
            "accuracy for LR  92.6829268292683 %\n",
            "roc for LR  93.24315274894529 %\n"
          ],
          "name": "stdout"
        }
      ]
    },
    {
      "cell_type": "code",
      "metadata": {
        "id": "y6DysFV2M_mj",
        "colab": {
          "base_uri": "https://localhost:8080/"
        },
        "outputId": "9a2a9be7-d658-4e22-e37e-a926640202f7"
      },
      "source": [
        "print('traning accuracy using LR',accuracy_score(y_train,lr.predict(X_train))*100,'%')\n",
        "print('traning roc_auc using  LR',roc_auc_score(y_train,lr.predict(X_train))*100,'%')"
      ],
      "execution_count": 290,
      "outputs": [
        {
          "output_type": "stream",
          "text": [
            "traning accuracy using LR 95.1219512195122 %\n",
            "traning roc_auc using  LR 95.00165483764205 %\n"
          ],
          "name": "stdout"
        }
      ]
    },
    {
      "cell_type": "markdown",
      "metadata": {
        "id": "QfRs1K4UNpkM"
      },
      "source": [
        "**hyper tuning**"
      ]
    },
    {
      "cell_type": "code",
      "metadata": {
        "id": "8VNORjbgJ8zi",
        "colab": {
          "base_uri": "https://localhost:8080/"
        },
        "outputId": "e3d92e5a-bd76-422f-e3a7-78c93c1f4bbd"
      },
      "source": [
        "solver=['newton-cg', 'lbfgs', 'liblinear']\n",
        "penalty=['l1', 'l2']\n",
        "c_values = [0.001, 0.01, 1, 100, 1000]\n",
        "random_state=[42]\n",
        "\n",
        "grid = dict(solver=solvers,penalty=penalty,C=c_values,random_state=random_state)\n",
        "\n",
        "\n",
        "lrgrid=GridSearchCV(lr,param_grid=grid,scoring='accuracy',n_jobs=-1)\n",
        "lrgrid.fit(X_train,y_train)"
      ],
      "execution_count": 369,
      "outputs": [
        {
          "output_type": "execute_result",
          "data": {
            "text/plain": [
              "GridSearchCV(cv=None, error_score=nan,\n",
              "             estimator=LogisticRegression(C=1.0, class_weight=None, dual=False,\n",
              "                                          fit_intercept=True,\n",
              "                                          intercept_scaling=1, l1_ratio=None,\n",
              "                                          max_iter=100, multi_class='auto',\n",
              "                                          n_jobs=None, penalty='l2',\n",
              "                                          random_state=42, solver='lbfgs',\n",
              "                                          tol=0.0001, verbose=0,\n",
              "                                          warm_start=False),\n",
              "             iid='deprecated', n_jobs=-1,\n",
              "             param_grid={'C': [0.001, 0.01, 1, 100, 1000],\n",
              "                         'penalty': ['l1', 'l2'], 'random_state': [42],\n",
              "                         'solver': ['liblinear']},\n",
              "             pre_dispatch='2*n_jobs', refit=True, return_train_score=False,\n",
              "             scoring='accuracy', verbose=0)"
            ]
          },
          "metadata": {
            "tags": []
          },
          "execution_count": 369
        }
      ]
    },
    {
      "cell_type": "code",
      "metadata": {
        "id": "XAnskBrXKpXY",
        "colab": {
          "base_uri": "https://localhost:8080/"
        },
        "outputId": "00d9d444-11ef-4fc4-8d26-e49d86c6b5ed"
      },
      "source": [
        "lrgrid.best_params_"
      ],
      "execution_count": 370,
      "outputs": [
        {
          "output_type": "execute_result",
          "data": {
            "text/plain": [
              "{'C': 1, 'penalty': 'l1', 'random_state': 42, 'solver': 'liblinear'}"
            ]
          },
          "metadata": {
            "tags": []
          },
          "execution_count": 370
        }
      ]
    },
    {
      "cell_type": "code",
      "metadata": {
        "id": "rePdPfVAKuZ1",
        "colab": {
          "base_uri": "https://localhost:8080/"
        },
        "outputId": "22a17957-0327-4952-efcc-44a4b438e5bd"
      },
      "source": [
        "print('accuracy LR after HT',accuracy_score(y_test,lrgrid.predict(X_test))*100,'%')\n",
        "print('ROC AUC LR after HT',roc_auc_score(y_test,lrgrid.predict(X_test))*100,'%')\n"
      ],
      "execution_count": 371,
      "outputs": [
        {
          "output_type": "stream",
          "text": [
            "accuracy LR after HT 93.08943089430895 %\n",
            "ROC AUC LR after HT 93.60811625259493 %\n"
          ],
          "name": "stdout"
        }
      ]
    },
    {
      "cell_type": "markdown",
      "metadata": {
        "id": "c_dQTCU5N-rm"
      },
      "source": [
        "**overall results for LR**"
      ]
    },
    {
      "cell_type": "code",
      "metadata": {
        "id": "N7aQ7fUEOCsT",
        "colab": {
          "base_uri": "https://localhost:8080/"
        },
        "outputId": "94cc06b6-33cf-4ad8-9ed3-9bdcc9f71370"
      },
      "source": [
        "print(confusion_matrix(y_test,lr.predict(X_test)))\n",
        "print('accuracy for LR ',accuracy_score(y_test,lr.predict(X_test))*100,'%')\n",
        "print('roc for LR ',roc_auc_score(y_test,lr.predict(X_test))*100,'%')\n",
        "print('*'*40,'after hyper tunning','*'*30)\n",
        "print('accuracy LR after HT',accuracy_score(y_test,lrgrid.predict(X_test))*100,'%')\n",
        "print('ROC AUC LR after HT',roc_auc_score(y_test,lrgrid.predict(X_test))*100,'%')\n",
        "print(confusion_matrix(y_test,lrgrid.predict(X_test)))"
      ],
      "execution_count": 386,
      "outputs": [
        {
          "output_type": "stream",
          "text": [
            "[[107   2]\n",
            " [ 16 121]]\n",
            "accuracy for LR  92.6829268292683 %\n",
            "roc for LR  93.24315274894529 %\n",
            "**************************************** after hyper tunning ******************************\n",
            "accuracy LR after HT 93.08943089430895 %\n",
            "ROC AUC LR after HT 93.60811625259493 %\n",
            "[[107   2]\n",
            " [ 15 122]]\n"
          ],
          "name": "stdout"
        }
      ]
    },
    {
      "cell_type": "markdown",
      "metadata": {
        "id": "hGK68RDrOjrO"
      },
      "source": [
        "# out of all the models, logistic regression perfomed "
      ]
    },
    {
      "cell_type": "markdown",
      "metadata": {
        "id": "D_44Hr3MOKlB"
      },
      "source": [
        "## **over sampling smote **"
      ]
    },
    {
      "cell_type": "code",
      "metadata": {
        "id": "8VPMxmVgcBXA",
        "colab": {
          "base_uri": "https://localhost:8080/"
        },
        "outputId": "e72be90b-9e00-43f1-ee5b-2c3925a13ec7"
      },
      "source": [
        "df.shape"
      ],
      "execution_count": 405,
      "outputs": [
        {
          "output_type": "execute_result",
          "data": {
            "text/plain": [
              "(284807, 31)"
            ]
          },
          "metadata": {
            "tags": []
          },
          "execution_count": 405
        }
      ]
    },
    {
      "cell_type": "code",
      "metadata": {
        "id": "D9khbn-Jd9w4",
        "colab": {
          "base_uri": "https://localhost:8080/"
        },
        "outputId": "30a7bb75-0b7b-4a16-fa77-ce9becfbfdf0"
      },
      "source": [
        "df.columns"
      ],
      "execution_count": 406,
      "outputs": [
        {
          "output_type": "execute_result",
          "data": {
            "text/plain": [
              "Index(['scaled_amount', 'scaled_time', 'V1', 'V2', 'V3', 'V4', 'V5', 'V6',\n",
              "       'V7', 'V8', 'V9', 'V10', 'V11', 'V12', 'V13', 'V14', 'V15', 'V16',\n",
              "       'V17', 'V18', 'V19', 'V20', 'V21', 'V22', 'V23', 'V24', 'V25', 'V26',\n",
              "       'V27', 'V28', 'Class'],\n",
              "      dtype='object')"
            ]
          },
          "metadata": {
            "tags": []
          },
          "execution_count": 406
        }
      ]
    },
    {
      "cell_type": "code",
      "metadata": {
        "id": "82i4Pnm0fBf8"
      },
      "source": [
        "x_o=df.drop('Class',axis=1)\n",
        "y_o=df['Class']"
      ],
      "execution_count": 407,
      "outputs": []
    },
    {
      "cell_type": "code",
      "metadata": {
        "id": "VrzcjXAfgGcj",
        "colab": {
          "base_uri": "https://localhost:8080/"
        },
        "outputId": "e6c702fe-2cf6-4a6c-fddb-c02d7693b2c8"
      },
      "source": [
        "x_o.shape,y_o.shape"
      ],
      "execution_count": 408,
      "outputs": [
        {
          "output_type": "execute_result",
          "data": {
            "text/plain": [
              "((284807, 30), (284807,))"
            ]
          },
          "metadata": {
            "tags": []
          },
          "execution_count": 408
        }
      ]
    },
    {
      "cell_type": "code",
      "metadata": {
        "id": "sWYpjyexgdaK"
      },
      "source": [
        "x_o_train,x_o_test,y_o_train,y_o_test=train_test_split(x_o,y_o,test_size=0.25,random_state=42)"
      ],
      "execution_count": 409,
      "outputs": []
    },
    {
      "cell_type": "code",
      "metadata": {
        "id": "Z9s8fDcYg5x1",
        "colab": {
          "base_uri": "https://localhost:8080/"
        },
        "outputId": "0b1091e4-554e-4f10-974e-d167d7770a61"
      },
      "source": [
        "x_o_train.shape,x_o_test.shape,y_o_train.shape,y_o_test.shape"
      ],
      "execution_count": 410,
      "outputs": [
        {
          "output_type": "execute_result",
          "data": {
            "text/plain": [
              "((213605, 30), (71202, 30), (213605,), (71202,))"
            ]
          },
          "metadata": {
            "tags": []
          },
          "execution_count": 410
        }
      ]
    },
    {
      "cell_type": "code",
      "metadata": {
        "id": "pl5zjSYMiegt",
        "colab": {
          "base_uri": "https://localhost:8080/"
        },
        "outputId": "4f2a4dfc-de67-469a-f45a-bcaa22adee0d"
      },
      "source": [
        "y_o_train.value_counts()"
      ],
      "execution_count": 411,
      "outputs": [
        {
          "output_type": "execute_result",
          "data": {
            "text/plain": [
              "0    213248\n",
              "1       357\n",
              "Name: Class, dtype: int64"
            ]
          },
          "metadata": {
            "tags": []
          },
          "execution_count": 411
        }
      ]
    },
    {
      "cell_type": "code",
      "metadata": {
        "id": "Ng4O4-hri974",
        "colab": {
          "base_uri": "https://localhost:8080/"
        },
        "outputId": "97622ce8-ea4d-4bff-e661-796fe1d6f5cf"
      },
      "source": [
        "print(\"Before OverSampling, counts of label '1': {}\".format(sum(y_o_train == 1))) \n",
        "print(\"Before OverSampling, counts of label '0': {} \\n\".format(sum(y_o_train == 0))) "
      ],
      "execution_count": 412,
      "outputs": [
        {
          "output_type": "stream",
          "text": [
            "Before OverSampling, counts of label '1': 357\n",
            "Before OverSampling, counts of label '0': 213248 \n",
            "\n"
          ],
          "name": "stdout"
        }
      ]
    },
    {
      "cell_type": "code",
      "metadata": {
        "colab": {
          "base_uri": "https://localhost:8080/"
        },
        "id": "4pMrJOa_BVYU",
        "outputId": "2b6b3eea-46a4-424e-c07f-4cf37f3992a9"
      },
      "source": [
        "from imblearn.over_sampling import SMOTE \r\n",
        "sm = SMOTE(random_state = 2) \r\n",
        "X_train_res, y_train_res = sm.fit_sample(x_o_train, y_o_train) \r\n",
        "print('After OverSampling, the shape of train_X: {}'.format(X_train_res.shape)) \r\n",
        "print('After OverSampling, the shape of train_y: {} \\n'.format(y_train_res.shape)) \r\n",
        "  \r\n",
        "print(\"After OverSampling, counts of label '1': {}\".format(sum(y_train_res == 1))) \r\n",
        "print(\"After OverSampling, counts of label '0': {}\".format(sum(y_train_res == 0))) "
      ],
      "execution_count": 413,
      "outputs": [
        {
          "output_type": "stream",
          "text": [
            "/usr/local/lib/python3.6/dist-packages/sklearn/externals/six.py:31: FutureWarning: The module is deprecated in version 0.21 and will be removed in version 0.23 since we've dropped support for Python 2.7. Please rely on the official version of six (https://pypi.org/project/six/).\n",
            "  \"(https://pypi.org/project/six/).\", FutureWarning)\n",
            "/usr/local/lib/python3.6/dist-packages/sklearn/utils/deprecation.py:144: FutureWarning: The sklearn.neighbors.base module is  deprecated in version 0.22 and will be removed in version 0.24. The corresponding classes / functions should instead be imported from sklearn.neighbors. Anything that cannot be imported from sklearn.neighbors is now part of the private API.\n",
            "  warnings.warn(message, FutureWarning)\n",
            "/usr/local/lib/python3.6/dist-packages/sklearn/utils/deprecation.py:87: FutureWarning: Function safe_indexing is deprecated; safe_indexing is deprecated in version 0.22 and will be removed in version 0.24.\n",
            "  warnings.warn(msg, category=FutureWarning)\n"
          ],
          "name": "stderr"
        },
        {
          "output_type": "stream",
          "text": [
            "After OverSampling, the shape of train_X: (426496, 30)\n",
            "After OverSampling, the shape of train_y: (426496,) \n",
            "\n",
            "After OverSampling, counts of label '1': 213248\n",
            "After OverSampling, counts of label '0': 213248\n"
          ],
          "name": "stdout"
        }
      ]
    },
    {
      "cell_type": "code",
      "metadata": {
        "id": "_nTxAM5Qcg_X"
      },
      "source": [
        "from sklearn.svm import SVC\r\n",
        "from sklearn.neighbors import KNeighborsClassifier\r\n",
        "from sklearn.tree import DecisionTreeClassifier\r\n",
        "from sklearn.ensemble import RandomForestClassifier\r\n",
        "from sklearn.ensemble import GradientBoostingClassifier"
      ],
      "execution_count": 414,
      "outputs": []
    },
    {
      "cell_type": "code",
      "metadata": {
        "id": "7vtqzM7icS-E"
      },
      "source": [
        "classifiers = {\r\n",
        "    \"LogisiticRegression\": LogisticRegression(),\r\n",
        "     'RandomForestClassifier': RandomForestClassifier(),\r\n",
        "    \r\n",
        "    \"Support Vector Classifier\": SVC(),\r\n",
        "    \"DecisionTreeClassifier\": DecisionTreeClassifier()\r\n",
        "}"
      ],
      "execution_count": 415,
      "outputs": []
    },
    {
      "cell_type": "code",
      "metadata": {
        "colab": {
          "base_uri": "https://localhost:8080/"
        },
        "id": "EvieC1t5I_ST",
        "outputId": "8fc6de94-e364-46f6-ad43-7721a660e93a"
      },
      "source": [
        "for key, value in classifiers.items():\r\n",
        "    classifier.fit(X_train_res,y_train_res)\r\n",
        "    print(key,'accuracy is',accuracy_score(y_o_test,classifier.predict(x_o_test))*100)"
      ],
      "execution_count": 417,
      "outputs": [
        {
          "output_type": "stream",
          "text": [
            "LogisiticRegression accuracy is 99.75000702227466\n",
            "RandomForestClassifier accuracy is 99.73315356310216\n",
            "Support Vector Classifier accuracy is 99.7345580180332\n",
            "DecisionTreeClassifier accuracy is 99.72894019830903\n"
          ],
          "name": "stdout"
        }
      ]
    },
    {
      "cell_type": "markdown",
      "metadata": {
        "id": "ankn5ej6d9fT"
      },
      "source": [
        "**compare to undersampling over sampling gives better results , we can increase peformnace by HT .** we need to draw confusion matrix for better undersantding"
      ]
    }
  ]
}